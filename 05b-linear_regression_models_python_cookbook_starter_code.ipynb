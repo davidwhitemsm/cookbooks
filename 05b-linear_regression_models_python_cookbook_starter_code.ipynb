{
 "cells": [
  {
   "cell_type": "code",
   "execution_count": null,
   "id": "78ec5e27",
   "metadata": {},
   "outputs": [],
   "source": [
    "# work in progress\n",
    "\n",
    "# last updated: 2022-05-18"
   ]
  },
  {
   "cell_type": "markdown",
   "id": "7658fd5d",
   "metadata": {},
   "source": [
    "# Linear Regression Python Cookbook: Starter Code"
   ]
  },
  {
   "cell_type": "markdown",
   "id": "b803cae0",
   "metadata": {},
   "source": [
    "---"
   ]
  },
  {
   "cell_type": "markdown",
   "id": "80e45c0b",
   "metadata": {},
   "source": [
    "## 0. Prepare the Workspace \n",
    "***use for both methods***"
   ]
  },
  {
   "cell_type": "code",
   "execution_count": 19,
   "id": "4d42e405",
   "metadata": {},
   "outputs": [],
   "source": [
    "# import data analysis packages\n",
    "import numpy as np\n",
    "import pandas as pd\n",
    "\n",
    "# import functions from sci-kit learn \n",
    "from sklearn.linear_model import LinearRegression\n",
    "from sklearn.model_selection import cross_val_score, train_test_split , KFold \n",
    "from sklearn import metrics\n",
    "\n",
    "# import functions from statsmodels\n",
    "import statsmodels.formula.api as smf\n",
    "\n",
    "# import data visualization packages\n",
    "import seaborn as sns\n",
    "import matplotlib.pyplot as plt\n",
    "\n",
    "# allow graphs to display in the notebook inline\n",
    "%matplotlib inline"
   ]
  },
  {
   "cell_type": "code",
   "execution_count": null,
   "id": "51d76dd3",
   "metadata": {},
   "outputs": [],
   "source": [
    "# load data\n"
   ]
  },
  {
   "cell_type": "code",
   "execution_count": 21,
   "id": "dba1458d",
   "metadata": {},
   "outputs": [],
   "source": [
    "# edit the DataFrame to contain one or more features and a single target\n",
    "\n"
   ]
  },
  {
   "cell_type": "markdown",
   "id": "8a28d72b",
   "metadata": {},
   "source": [
    "## ***Method A: statsmodels***"
   ]
  },
  {
   "cell_type": "code",
   "execution_count": null,
   "id": "daaab1b6",
   "metadata": {},
   "outputs": [],
   "source": [
    "# step 1A.1 - create a fitted model\n",
    "\n",
    "lm = smf.ols(formula='target_column ~ feature_column', data=df).fit()"
   ]
  },
  {
   "cell_type": "code",
   "execution_count": null,
   "id": "973f73ef",
   "metadata": {},
   "outputs": [],
   "source": [
    "# step 1A.2 - print the coefficients\n",
    "\n",
    "lm.summary()"
   ]
  },
  {
   "cell_type": "code",
   "execution_count": null,
   "id": "86d2001a",
   "metadata": {},
   "outputs": [],
   "source": [
    "# step 1A.3 - predict for a new observation\n",
    "\n",
    "# first, you must create a DataFrame because the Statsmodels formula interface expects it\n",
    "X_new = pd.DataFrame({'feature_column': [50]}) \n",
    "\n",
    "# then, use the new DataFrame to predict for a new observation\n",
    "lm.predict(X_new)"
   ]
  },
  {
   "cell_type": "markdown",
   "id": "97de905c",
   "metadata": {},
   "source": [
    "## ***Method B: scikit-learn*** "
   ]
  },
  {
   "cell_type": "markdown",
   "id": "8cdb1357",
   "metadata": {},
   "source": [
    "###  1B. Create X and y"
   ]
  },
  {
   "cell_type": "code",
   "execution_count": null,
   "id": "f5a6fd47",
   "metadata": {},
   "outputs": [],
   "source": [
    "# step 1B.1 - create a feature matrix\n",
    "\n",
    "X ="
   ]
  },
  {
   "cell_type": "code",
   "execution_count": null,
   "id": "70a8fdb7",
   "metadata": {},
   "outputs": [],
   "source": [
    "# step 1B.2 - create a response vector\n",
    "\n",
    "y = "
   ]
  },
  {
   "cell_type": "markdown",
   "id": "5f21fc70",
   "metadata": {},
   "source": [
    "### 2B. Instantiate and Fit"
   ]
  },
  {
   "cell_type": "code",
   "execution_count": 20,
   "id": "a552b0ad",
   "metadata": {},
   "outputs": [],
   "source": [
    "# step 2B.1 - instantiate linear regression model\n",
    "\n",
    "lr = LinearRegression()"
   ]
  },
  {
   "cell_type": "code",
   "execution_count": 2,
   "id": "5d2f1597",
   "metadata": {},
   "outputs": [],
   "source": [
    "# step 2B.2 - fit linear regression model\n",
    "\n",
    "lr.fit(X,y)"
   ]
  },
  {
   "cell_type": "markdown",
   "id": "ecb9ba6f",
   "metadata": {},
   "source": [
    "### 3B. Print the Cooefficients\n"
   ]
  },
  {
   "cell_type": "code",
   "execution_count": 3,
   "id": "e0c1189e",
   "metadata": {},
   "outputs": [],
   "source": [
    "# step 3B.1 - print the y-intercept\n",
    "\n",
    "print(lr.intercept_)"
   ]
  },
  {
   "cell_type": "code",
   "execution_count": 4,
   "id": "d9647853",
   "metadata": {},
   "outputs": [],
   "source": [
    "# step 3B.2 - print the regression coefficient\n",
    "\n",
    "print (lr.coef_)"
   ]
  },
  {
   "cell_type": "code",
   "execution_count": 8,
   "id": "f0c3a425",
   "metadata": {},
   "outputs": [],
   "source": [
    "# step 3B.3 - predict for a single value\n",
    "\n",
    "lr.predict([[100]])"
   ]
  },
  {
   "cell_type": "code",
   "execution_count": 7,
   "id": "c67ad69d",
   "metadata": {},
   "outputs": [],
   "source": [
    "# step 3B.4 - Predict the response values\n",
    "\n",
    "lr.predict([[X]])"
   ]
  },
  {
   "cell_type": "markdown",
   "id": "27c4122c",
   "metadata": {},
   "source": [
    "## 4. Calculate Loss Functions"
   ]
  },
  {
   "cell_type": "markdown",
   "id": "b5068f49",
   "metadata": {},
   "source": [
    ">Comparing these metrics:\n",
    ">- **Mean Absolute Error (MAE)** represents the average error.\n",
    ">- **Mean Squared Error (MSE)** punishes larger errors\n",
    ">- **Root Mean Squared Error (RMSE)** punishes larger errors and is interpretable in the \"y\" units.<br><br>These are all are ***loss functions***, because we want to ***minimize*** them."
   ]
  },
  {
   "cell_type": "code",
   "execution_count": 9,
   "id": "031b6bf6",
   "metadata": {},
   "outputs": [],
   "source": [
    "# step 4.1 - calculate the mean absolute error\n",
    "\n",
    "#Calculate MAE using sklearn\n",
    "metrics.mean_absolute_error(y_true, y_pred)"
   ]
  },
  {
   "cell_type": "code",
   "execution_count": 10,
   "id": "db211a41",
   "metadata": {},
   "outputs": [],
   "source": [
    "# step 4.2 - calculate the mean squared error\n",
    "\n",
    "#Calculate MSE using sklearn\n",
    "metrics.mean_squared_error(y_true, y_pred)"
   ]
  },
  {
   "cell_type": "code",
   "execution_count": 22,
   "id": "7254d720",
   "metadata": {},
   "outputs": [],
   "source": [
    "# step 4.3 - calculate the root mean squared error\n",
    "\n",
    "#Calculate RMSE using NumPy\n",
    "np.sqrt(metrics.mean_squared_error(y_true, y_pred))"
   ]
  },
  {
   "cell_type": "markdown",
   "id": "821f6ca8",
   "metadata": {},
   "source": [
    "## 5. Calculate R<sup>2</sup> \n",
    ">Use R<sup>2</sup> to find out how well our model performs versus the mean\n"
   ]
  },
  {
   "cell_type": "code",
   "execution_count": null,
   "id": "fcdd07c3",
   "metadata": {},
   "outputs": [],
   "source": [
    "# step 4.4 - use statsmodels to calculate the R-squared value for the model\n",
    "\n",
    "# R-squared value for the model with one feature\n",
    "lm.rsquared"
   ]
  },
  {
   "cell_type": "code",
   "execution_count": null,
   "id": "a3a0f7f0",
   "metadata": {},
   "outputs": [],
   "source": [
    "# R-squared value for the model with two features\n",
    "\n",
    "lm = smf.ols(formula='target_column ~ feature_column1 + feature_column2', data=df).fit()\n",
    "lm.rsquared"
   ]
  },
  {
   "cell_type": "code",
   "execution_count": null,
   "id": "a685b41d",
   "metadata": {},
   "outputs": [],
   "source": [
    "# R-squared value for the model with three features\n",
    "\n",
    "lm = smf.ols(formula='target_column ~ feature_column1 + feature_column2 + feature_column3', data=df).fit()\n",
    "lm.rsquared"
   ]
  },
  {
   "cell_type": "markdown",
   "id": "9a7474b4",
   "metadata": {},
   "source": [
    "---"
   ]
  },
  {
   "cell_type": "markdown",
   "id": "88797007",
   "metadata": {},
   "source": [
    "---"
   ]
  }
 ],
 "metadata": {
  "kernelspec": {
   "display_name": "Python 3",
   "language": "python",
   "name": "python3"
  },
  "language_info": {
   "codemirror_mode": {
    "name": "ipython",
    "version": 3
   },
   "file_extension": ".py",
   "mimetype": "text/x-python",
   "name": "python",
   "nbconvert_exporter": "python",
   "pygments_lexer": "ipython3",
   "version": "3.8.8"
  }
 },
 "nbformat": 4,
 "nbformat_minor": 5
}
