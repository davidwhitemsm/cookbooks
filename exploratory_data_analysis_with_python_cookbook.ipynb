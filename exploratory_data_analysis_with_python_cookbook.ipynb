{
 "cells": [
  {
   "cell_type": "markdown",
   "id": "7a610619",
   "metadata": {},
   "source": [
    "# [COOKBOOK v1.0] Exploratory Data Analysis with Python | MSM c. 2021"
   ]
  },
  {
   "cell_type": "markdown",
   "id": "bd63ccc3",
   "metadata": {},
   "source": [
    "***Author: David White, Mister Shepherd Media LLC, New York, NY | david@msmdesign.nyc***"
   ]
  },
  {
   "cell_type": "markdown",
   "id": "79324735",
   "metadata": {},
   "source": [
    "## 0. Setup the workspace"
   ]
  },
  {
   "cell_type": "markdown",
   "id": "32c065cd",
   "metadata": {},
   "source": [
    "### 0.1 | Import Numpy, pandas and Matplotlib"
   ]
  },
  {
   "cell_type": "code",
   "execution_count": 2,
   "id": "a562c5c8",
   "metadata": {},
   "outputs": [],
   "source": [
    "# import the libraries needed for data analysis and visualization\n",
    "\n",
    "import numpy as np\n",
    "import pandas as pd\n",
    "import matplotlib.pyplot as plt"
   ]
  },
  {
   "cell_type": "markdown",
   "id": "bde47a01",
   "metadata": {},
   "source": [
    "### 0.2a | Load data from GitHub (raw csv)"
   ]
  },
  {
   "cell_type": "code",
   "execution_count": 3,
   "id": "6ba2b8c5",
   "metadata": {},
   "outputs": [],
   "source": [
    "# load the data from the csv file (hosted on Github) and assign it to a variable\n",
    "\n",
    "df_a = pd.read_csv('https://raw.githubusercontent.com/davidwhitemsm/selected-open-datasources/master/titanic.csv', encoding='utf-8')"
   ]
  },
  {
   "cell_type": "markdown",
   "id": "abe595cf",
   "metadata": {},
   "source": [
    "### 0.2b | Load data from local machine"
   ]
  },
  {
   "cell_type": "code",
   "execution_count": 4,
   "id": "838c0136",
   "metadata": {},
   "outputs": [],
   "source": [
    "# read from local csv file\n",
    "\n",
    "df_b = pd.read_csv(r'C:\\Users\\david\\OneDrive\\Desktop\\coding_sandbox\\titanic.csv', encoding='utf-8')"
   ]
  },
  {
   "cell_type": "code",
   "execution_count": 5,
   "id": "d803d08e",
   "metadata": {},
   "outputs": [],
   "source": [
    "# read from local Excel file\n",
    "\n",
    "df_xlsx = pd.read_excel(r'C:\\Users\\david\\OneDrive\\Desktop\\coding_sandbox\\titanic.xlsx', sheet_name='titanic') # or sheet_name=0\n",
    "\n",
    "# in both examples, note the \"r\" immediately before the file path. this prevents the unicode escape error"
   ]
  },
  {
   "cell_type": "markdown",
   "id": "0664f59c",
   "metadata": {},
   "source": [
    "### 0.2c | Load data from json using NYC Open Data API"
   ]
  },
  {
   "cell_type": "code",
   "execution_count": 6,
   "id": "cbc2236e",
   "metadata": {},
   "outputs": [],
   "source": [
    "# import the library needed to load json data from the Socrata api\n",
    "\n",
    "from sodapy import Socrata"
   ]
  },
  {
   "cell_type": "code",
   "execution_count": 7,
   "id": "670bf1c7",
   "metadata": {},
   "outputs": [
    {
     "name": "stderr",
     "output_type": "stream",
     "text": [
      "WARNING:root:Requests made without an app_token will be subject to strict throttling limits.\n"
     ]
    }
   ],
   "source": [
    "# load the json data and store it in a variable\n",
    "\n",
    "client = Socrata(\"data.cityofnewyork.us\", None)\n",
    "\n",
    "# First 2000 results, returned as JSON from API / converted to Python list of dictionaries by sodapy.\n",
    "\n",
    "# on nyc open data page click on \"API Docs\", scroll to bottom of page, copy code snippet for \"Python Pandas\"\n",
    "# the \"9b9u-8989\" key is unique to this particular data set\n",
    "\n",
    "results = client.get(\"9b9u-8989\", limit=2000)\n",
    "\n",
    "# Convert to pandas DataFrame\n",
    "df_c = pd.DataFrame.from_records(results)"
   ]
  },
  {
   "cell_type": "markdown",
   "id": "79a2fcca",
   "metadata": {},
   "source": [
    "### 0.2d | Load data from Google BigQuery"
   ]
  },
  {
   "cell_type": "code",
   "execution_count": 116,
   "id": "a917d7c5",
   "metadata": {},
   "outputs": [],
   "source": [
    "# conda install -c conda-forge pandas-gbq\n",
    "\n",
    "# import pandas_gbq\n",
    "\n",
    "# TODO: Set project_id to your Google Cloud Platform project ID. \n",
    "# project_id = \"my-project\"\n",
    "\n",
    "# sql = \"\"\" \n",
    "# SELECT *\n",
    "# FROM `bigquery-public-data.utility_us.country_code_iso`  \n",
    "# \"\"\" \n",
    "# df = pandas_gbq.read_gbq(sql, project_id=project_id)"
   ]
  },
  {
   "cell_type": "markdown",
   "id": "f32fe055",
   "metadata": {},
   "source": [
    "### 0.3a | Print the first (n) rows of the DataFrame (default is 5 rows)"
   ]
  },
  {
   "cell_type": "code",
   "execution_count": 8,
   "id": "3f9381f0",
   "metadata": {},
   "outputs": [
    {
     "data": {
      "text/html": [
       "<div>\n",
       "<style scoped>\n",
       "    .dataframe tbody tr th:only-of-type {\n",
       "        vertical-align: middle;\n",
       "    }\n",
       "\n",
       "    .dataframe tbody tr th {\n",
       "        vertical-align: top;\n",
       "    }\n",
       "\n",
       "    .dataframe thead th {\n",
       "        text-align: right;\n",
       "    }\n",
       "</style>\n",
       "<table border=\"1\" class=\"dataframe\">\n",
       "  <thead>\n",
       "    <tr style=\"text-align: right;\">\n",
       "      <th></th>\n",
       "      <th>Survived</th>\n",
       "      <th>Pclass</th>\n",
       "      <th>Name</th>\n",
       "      <th>Sex</th>\n",
       "      <th>Age</th>\n",
       "      <th>Siblings/Spouses Aboard</th>\n",
       "      <th>Parents/Children Aboard</th>\n",
       "      <th>Fare</th>\n",
       "    </tr>\n",
       "  </thead>\n",
       "  <tbody>\n",
       "    <tr>\n",
       "      <th>0</th>\n",
       "      <td>0</td>\n",
       "      <td>3</td>\n",
       "      <td>Mr. Owen Harris Braund</td>\n",
       "      <td>male</td>\n",
       "      <td>22.0</td>\n",
       "      <td>1</td>\n",
       "      <td>0</td>\n",
       "      <td>7.2500</td>\n",
       "    </tr>\n",
       "    <tr>\n",
       "      <th>1</th>\n",
       "      <td>1</td>\n",
       "      <td>1</td>\n",
       "      <td>Mrs. John Bradley (Florence Briggs Thayer) Cum...</td>\n",
       "      <td>female</td>\n",
       "      <td>38.0</td>\n",
       "      <td>1</td>\n",
       "      <td>0</td>\n",
       "      <td>71.2833</td>\n",
       "    </tr>\n",
       "    <tr>\n",
       "      <th>2</th>\n",
       "      <td>1</td>\n",
       "      <td>3</td>\n",
       "      <td>Miss. Laina Heikkinen</td>\n",
       "      <td>female</td>\n",
       "      <td>26.0</td>\n",
       "      <td>0</td>\n",
       "      <td>0</td>\n",
       "      <td>7.9250</td>\n",
       "    </tr>\n",
       "    <tr>\n",
       "      <th>3</th>\n",
       "      <td>1</td>\n",
       "      <td>1</td>\n",
       "      <td>Mrs. Jacques Heath (Lily May Peel) Futrelle</td>\n",
       "      <td>female</td>\n",
       "      <td>35.0</td>\n",
       "      <td>1</td>\n",
       "      <td>0</td>\n",
       "      <td>53.1000</td>\n",
       "    </tr>\n",
       "    <tr>\n",
       "      <th>4</th>\n",
       "      <td>0</td>\n",
       "      <td>3</td>\n",
       "      <td>Mr. William Henry Allen</td>\n",
       "      <td>male</td>\n",
       "      <td>35.0</td>\n",
       "      <td>0</td>\n",
       "      <td>0</td>\n",
       "      <td>8.0500</td>\n",
       "    </tr>\n",
       "  </tbody>\n",
       "</table>\n",
       "</div>"
      ],
      "text/plain": [
       "   Survived  Pclass                                               Name  \\\n",
       "0         0       3                             Mr. Owen Harris Braund   \n",
       "1         1       1  Mrs. John Bradley (Florence Briggs Thayer) Cum...   \n",
       "2         1       3                              Miss. Laina Heikkinen   \n",
       "3         1       1        Mrs. Jacques Heath (Lily May Peel) Futrelle   \n",
       "4         0       3                            Mr. William Henry Allen   \n",
       "\n",
       "      Sex   Age  Siblings/Spouses Aboard  Parents/Children Aboard     Fare  \n",
       "0    male  22.0                        1                        0   7.2500  \n",
       "1  female  38.0                        1                        0  71.2833  \n",
       "2  female  26.0                        0                        0   7.9250  \n",
       "3  female  35.0                        1                        0  53.1000  \n",
       "4    male  35.0                        0                        0   8.0500  "
      ]
     },
     "execution_count": 8,
     "metadata": {},
     "output_type": "execute_result"
    }
   ],
   "source": [
    "# confirm that the data has loaded correctly by displaying the first few rows of the DataFrame\n",
    "\n",
    "df_a.head()"
   ]
  },
  {
   "cell_type": "markdown",
   "id": "7e5bab00",
   "metadata": {},
   "source": [
    "### 0.3b | Print the last (n) rows of the DataFrame (default is 5 rows)"
   ]
  },
  {
   "cell_type": "code",
   "execution_count": 9,
   "id": "520648b6",
   "metadata": {},
   "outputs": [
    {
     "data": {
      "text/html": [
       "<div>\n",
       "<style scoped>\n",
       "    .dataframe tbody tr th:only-of-type {\n",
       "        vertical-align: middle;\n",
       "    }\n",
       "\n",
       "    .dataframe tbody tr th {\n",
       "        vertical-align: top;\n",
       "    }\n",
       "\n",
       "    .dataframe thead th {\n",
       "        text-align: right;\n",
       "    }\n",
       "</style>\n",
       "<table border=\"1\" class=\"dataframe\">\n",
       "  <thead>\n",
       "    <tr style=\"text-align: right;\">\n",
       "      <th></th>\n",
       "      <th>Survived</th>\n",
       "      <th>Pclass</th>\n",
       "      <th>Name</th>\n",
       "      <th>Sex</th>\n",
       "      <th>Age</th>\n",
       "      <th>Siblings/Spouses Aboard</th>\n",
       "      <th>Parents/Children Aboard</th>\n",
       "      <th>Fare</th>\n",
       "    </tr>\n",
       "  </thead>\n",
       "  <tbody>\n",
       "    <tr>\n",
       "      <th>882</th>\n",
       "      <td>0</td>\n",
       "      <td>2</td>\n",
       "      <td>Rev. Juozas Montvila</td>\n",
       "      <td>male</td>\n",
       "      <td>27.0</td>\n",
       "      <td>0</td>\n",
       "      <td>0</td>\n",
       "      <td>13.00</td>\n",
       "    </tr>\n",
       "    <tr>\n",
       "      <th>883</th>\n",
       "      <td>1</td>\n",
       "      <td>1</td>\n",
       "      <td>Miss. Margaret Edith Graham</td>\n",
       "      <td>female</td>\n",
       "      <td>19.0</td>\n",
       "      <td>0</td>\n",
       "      <td>0</td>\n",
       "      <td>30.00</td>\n",
       "    </tr>\n",
       "    <tr>\n",
       "      <th>884</th>\n",
       "      <td>0</td>\n",
       "      <td>3</td>\n",
       "      <td>Miss. Catherine Helen Johnston</td>\n",
       "      <td>female</td>\n",
       "      <td>7.0</td>\n",
       "      <td>1</td>\n",
       "      <td>2</td>\n",
       "      <td>23.45</td>\n",
       "    </tr>\n",
       "    <tr>\n",
       "      <th>885</th>\n",
       "      <td>1</td>\n",
       "      <td>1</td>\n",
       "      <td>Mr. Karl Howell Behr</td>\n",
       "      <td>male</td>\n",
       "      <td>26.0</td>\n",
       "      <td>0</td>\n",
       "      <td>0</td>\n",
       "      <td>30.00</td>\n",
       "    </tr>\n",
       "    <tr>\n",
       "      <th>886</th>\n",
       "      <td>0</td>\n",
       "      <td>3</td>\n",
       "      <td>Mr. Patrick Dooley</td>\n",
       "      <td>male</td>\n",
       "      <td>32.0</td>\n",
       "      <td>0</td>\n",
       "      <td>0</td>\n",
       "      <td>7.75</td>\n",
       "    </tr>\n",
       "  </tbody>\n",
       "</table>\n",
       "</div>"
      ],
      "text/plain": [
       "     Survived  Pclass                            Name     Sex   Age  \\\n",
       "882         0       2            Rev. Juozas Montvila    male  27.0   \n",
       "883         1       1     Miss. Margaret Edith Graham  female  19.0   \n",
       "884         0       3  Miss. Catherine Helen Johnston  female   7.0   \n",
       "885         1       1            Mr. Karl Howell Behr    male  26.0   \n",
       "886         0       3              Mr. Patrick Dooley    male  32.0   \n",
       "\n",
       "     Siblings/Spouses Aboard  Parents/Children Aboard   Fare  \n",
       "882                        0                        0  13.00  \n",
       "883                        0                        0  30.00  \n",
       "884                        1                        2  23.45  \n",
       "885                        0                        0  30.00  \n",
       "886                        0                        0   7.75  "
      ]
     },
     "execution_count": 9,
     "metadata": {},
     "output_type": "execute_result"
    }
   ],
   "source": [
    "# confirm that the data has loaded correctly by displaying the last few rows of the DataFrame\n",
    "\n",
    "df_a.tail()"
   ]
  },
  {
   "cell_type": "markdown",
   "id": "70069120",
   "metadata": {},
   "source": [
    "## 1. Wrap our heads around the dataset"
   ]
  },
  {
   "cell_type": "markdown",
   "id": "abb138d3",
   "metadata": {},
   "source": [
    "### 1.1 | Print the number of rows and columns contained in the DataFrame"
   ]
  },
  {
   "cell_type": "code",
   "execution_count": 10,
   "id": "4e04c675",
   "metadata": {},
   "outputs": [
    {
     "data": {
      "text/plain": [
       "(887, 8)"
      ]
     },
     "execution_count": 10,
     "metadata": {},
     "output_type": "execute_result"
    }
   ],
   "source": [
    "# how many rows and how many columns are contained in our dataset?\n",
    "\n",
    "df_a.shape"
   ]
  },
  {
   "cell_type": "markdown",
   "id": "1cc9ed82",
   "metadata": {},
   "source": [
    "### 1.2 | Print the index of the Data Frame"
   ]
  },
  {
   "cell_type": "code",
   "execution_count": 11,
   "id": "f2eba610",
   "metadata": {},
   "outputs": [
    {
     "data": {
      "text/plain": [
       "RangeIndex(start=0, stop=887, step=1)"
      ]
     },
     "execution_count": 11,
     "metadata": {},
     "output_type": "execute_result"
    }
   ],
   "source": [
    "# what is the index (list of row labels) for our dataset?\n",
    "\n",
    "df_a.index"
   ]
  },
  {
   "cell_type": "markdown",
   "id": "505a373c",
   "metadata": {},
   "source": [
    "### 1.3 | List the DataFrame's column names"
   ]
  },
  {
   "cell_type": "code",
   "execution_count": 12,
   "id": "156111ef",
   "metadata": {},
   "outputs": [
    {
     "data": {
      "text/plain": [
       "Index(['Survived', 'Pclass', 'Name', 'Sex', 'Age', 'Siblings/Spouses Aboard',\n",
       "       'Parents/Children Aboard', 'Fare'],\n",
       "      dtype='object')"
      ]
     },
     "execution_count": 12,
     "metadata": {},
     "output_type": "execute_result"
    }
   ],
   "source": [
    "# what are the columns of our dataset?\n",
    "\n",
    "df_a.columns"
   ]
  },
  {
   "cell_type": "markdown",
   "id": "13a98b89",
   "metadata": {},
   "source": [
    "### 1.4 | Print a description of each of the DataFrame's columns"
   ]
  },
  {
   "cell_type": "code",
   "execution_count": 13,
   "id": "a67d8613",
   "metadata": {},
   "outputs": [
    {
     "name": "stdout",
     "output_type": "stream",
     "text": [
      "<class 'pandas.core.frame.DataFrame'>\n",
      "RangeIndex: 887 entries, 0 to 886\n",
      "Data columns (total 8 columns):\n",
      " #   Column                   Non-Null Count  Dtype  \n",
      "---  ------                   --------------  -----  \n",
      " 0   Survived                 887 non-null    int64  \n",
      " 1   Pclass                   887 non-null    int64  \n",
      " 2   Name                     887 non-null    object \n",
      " 3   Sex                      887 non-null    object \n",
      " 4   Age                      887 non-null    float64\n",
      " 5   Siblings/Spouses Aboard  887 non-null    int64  \n",
      " 6   Parents/Children Aboard  887 non-null    int64  \n",
      " 7   Fare                     887 non-null    float64\n",
      "dtypes: float64(2), int64(4), object(2)\n",
      "memory usage: 55.6+ KB\n"
     ]
    }
   ],
   "source": [
    "# what type of data is being stored in each column of our DataFrame?\n",
    "# which columns (if any) are missing data?\n",
    "\n",
    "df_a.info()"
   ]
  },
  {
   "cell_type": "markdown",
   "id": "b276efe3",
   "metadata": {},
   "source": [
    "### 1.5 | Summarize the dataset's null values by each column"
   ]
  },
  {
   "cell_type": "code",
   "execution_count": 14,
   "id": "1489b391",
   "metadata": {},
   "outputs": [
    {
     "data": {
      "text/plain": [
       "establishment_record_dba                          0\n",
       "establishment_record_establishment_street         0\n",
       "establishment_record_establishment_zip            0\n",
       "establishment_record_establishment_borough        0\n",
       "establishment_record_business_sector           1204\n",
       "establishment_record_establishment_category    1088\n",
       "establishment_record_actual_opening_date        182\n",
       "number_of_employees                             209\n",
       "establishment_record_type_of_cuisine           1275\n",
       "dtype: int64"
      ]
     },
     "execution_count": 14,
     "metadata": {},
     "output_type": "execute_result"
    }
   ],
   "source": [
    "df_c.isnull().sum()"
   ]
  },
  {
   "cell_type": "markdown",
   "id": "25dd2595",
   "metadata": {},
   "source": [
    "### 1.6a | Cast series to a numerical data type"
   ]
  },
  {
   "cell_type": "code",
   "execution_count": 15,
   "id": "4e334212",
   "metadata": {},
   "outputs": [],
   "source": [
    "# let's adjust the data types of our columns so we can better analyze the data\n",
    "\n",
    "df_c['number_of_employees'] = pd.to_numeric(df_c['number_of_employees'], errors='coerce')"
   ]
  },
  {
   "cell_type": "markdown",
   "id": "664609d1",
   "metadata": {},
   "source": [
    "### 1.6b | Cast series to a categorical data type"
   ]
  },
  {
   "cell_type": "code",
   "execution_count": 16,
   "id": "2c799424",
   "metadata": {},
   "outputs": [],
   "source": [
    "df_c['establishment_record_establishment_category'] = df_c['establishment_record_establishment_category'].astype('category')"
   ]
  },
  {
   "cell_type": "markdown",
   "id": "f3322f7e",
   "metadata": {},
   "source": [
    "### 1.6c | Cast series to a datetime data type"
   ]
  },
  {
   "cell_type": "code",
   "execution_count": 17,
   "id": "8f85b6ce",
   "metadata": {},
   "outputs": [],
   "source": [
    "df_c['establishment_record_actual_opening_date'] = pd.to_datetime(df_c['establishment_record_actual_opening_date'], errors='coerce')"
   ]
  },
  {
   "cell_type": "markdown",
   "id": "e3be59b3",
   "metadata": {},
   "source": [
    "### 1.6d | Cast series to a boolean data type"
   ]
  },
  {
   "cell_type": "code",
   "execution_count": 18,
   "id": "560a21f9",
   "metadata": {},
   "outputs": [],
   "source": [
    "df_a['Survived'] = df_a['Survived'].astype('bool')"
   ]
  },
  {
   "cell_type": "markdown",
   "id": "c9097934",
   "metadata": {},
   "source": [
    "### 1.6e | Cast series to a string data type"
   ]
  },
  {
   "cell_type": "code",
   "execution_count": 19,
   "id": "8ac5f2f3",
   "metadata": {},
   "outputs": [],
   "source": [
    "df_a['Pclass'] = df_a['Pclass'].astype('string')"
   ]
  },
  {
   "cell_type": "markdown",
   "id": "52774e4a",
   "metadata": {},
   "source": [
    "### 1.6f | Cast series to an object data type"
   ]
  },
  {
   "cell_type": "code",
   "execution_count": 20,
   "id": "78f8f025",
   "metadata": {},
   "outputs": [],
   "source": [
    "df_a['Pclass'] = df_a['Pclass'].astype('object')"
   ]
  },
  {
   "cell_type": "markdown",
   "id": "add8393f",
   "metadata": {},
   "source": [
    "### 1.7 | Print the number of null values for each column"
   ]
  },
  {
   "cell_type": "code",
   "execution_count": 21,
   "id": "107777aa",
   "metadata": {},
   "outputs": [
    {
     "data": {
      "text/plain": [
       "establishment_record_dba                          0\n",
       "establishment_record_establishment_street         0\n",
       "establishment_record_establishment_zip            0\n",
       "establishment_record_establishment_borough        0\n",
       "establishment_record_business_sector           1204\n",
       "establishment_record_establishment_category    1088\n",
       "establishment_record_actual_opening_date        182\n",
       "number_of_employees                             209\n",
       "establishment_record_type_of_cuisine           1275\n",
       "dtype: int64"
      ]
     },
     "execution_count": 21,
     "metadata": {},
     "output_type": "execute_result"
    }
   ],
   "source": [
    "df_c.isnull().sum()"
   ]
  },
  {
   "cell_type": "markdown",
   "id": "ddce9f08",
   "metadata": {},
   "source": [
    "### 1.7a | Find the earliest date"
   ]
  },
  {
   "cell_type": "code",
   "execution_count": 22,
   "id": "bb93e73a",
   "metadata": {},
   "outputs": [
    {
     "data": {
      "text/plain": [
       "Timestamp('2005-01-01 00:00:00')"
      ]
     },
     "execution_count": 22,
     "metadata": {},
     "output_type": "execute_result"
    }
   ],
   "source": [
    "df_c['establishment_record_actual_opening_date'].min()"
   ]
  },
  {
   "cell_type": "markdown",
   "id": "b695c1d4",
   "metadata": {},
   "source": [
    "### 1.7b | Find the most recent date"
   ]
  },
  {
   "cell_type": "code",
   "execution_count": 23,
   "id": "92ff7095",
   "metadata": {},
   "outputs": [
    {
     "data": {
      "text/plain": [
       "Timestamp('2018-09-14 00:00:00')"
      ]
     },
     "execution_count": 23,
     "metadata": {},
     "output_type": "execute_result"
    }
   ],
   "source": [
    "df_c['establishment_record_actual_opening_date'].max()"
   ]
  },
  {
   "cell_type": "markdown",
   "id": "21c49f28",
   "metadata": {},
   "source": [
    "### 1.8a | Summarize all numerical variables in the dataset"
   ]
  },
  {
   "cell_type": "code",
   "execution_count": 24,
   "id": "809dedb3",
   "metadata": {},
   "outputs": [
    {
     "data": {
      "text/html": [
       "<div>\n",
       "<style scoped>\n",
       "    .dataframe tbody tr th:only-of-type {\n",
       "        vertical-align: middle;\n",
       "    }\n",
       "\n",
       "    .dataframe tbody tr th {\n",
       "        vertical-align: top;\n",
       "    }\n",
       "\n",
       "    .dataframe thead th {\n",
       "        text-align: right;\n",
       "    }\n",
       "</style>\n",
       "<table border=\"1\" class=\"dataframe\">\n",
       "  <thead>\n",
       "    <tr style=\"text-align: right;\">\n",
       "      <th></th>\n",
       "      <th>Age</th>\n",
       "      <th>Siblings/Spouses Aboard</th>\n",
       "      <th>Parents/Children Aboard</th>\n",
       "      <th>Fare</th>\n",
       "    </tr>\n",
       "  </thead>\n",
       "  <tbody>\n",
       "    <tr>\n",
       "      <th>count</th>\n",
       "      <td>887.000000</td>\n",
       "      <td>887.000000</td>\n",
       "      <td>887.000000</td>\n",
       "      <td>887.00000</td>\n",
       "    </tr>\n",
       "    <tr>\n",
       "      <th>mean</th>\n",
       "      <td>29.471443</td>\n",
       "      <td>0.525366</td>\n",
       "      <td>0.383315</td>\n",
       "      <td>32.30542</td>\n",
       "    </tr>\n",
       "    <tr>\n",
       "      <th>std</th>\n",
       "      <td>14.121908</td>\n",
       "      <td>1.104669</td>\n",
       "      <td>0.807466</td>\n",
       "      <td>49.78204</td>\n",
       "    </tr>\n",
       "    <tr>\n",
       "      <th>min</th>\n",
       "      <td>0.420000</td>\n",
       "      <td>0.000000</td>\n",
       "      <td>0.000000</td>\n",
       "      <td>0.00000</td>\n",
       "    </tr>\n",
       "    <tr>\n",
       "      <th>25%</th>\n",
       "      <td>20.250000</td>\n",
       "      <td>0.000000</td>\n",
       "      <td>0.000000</td>\n",
       "      <td>7.92500</td>\n",
       "    </tr>\n",
       "    <tr>\n",
       "      <th>50%</th>\n",
       "      <td>28.000000</td>\n",
       "      <td>0.000000</td>\n",
       "      <td>0.000000</td>\n",
       "      <td>14.45420</td>\n",
       "    </tr>\n",
       "    <tr>\n",
       "      <th>75%</th>\n",
       "      <td>38.000000</td>\n",
       "      <td>1.000000</td>\n",
       "      <td>0.000000</td>\n",
       "      <td>31.13750</td>\n",
       "    </tr>\n",
       "    <tr>\n",
       "      <th>max</th>\n",
       "      <td>80.000000</td>\n",
       "      <td>8.000000</td>\n",
       "      <td>6.000000</td>\n",
       "      <td>512.32920</td>\n",
       "    </tr>\n",
       "  </tbody>\n",
       "</table>\n",
       "</div>"
      ],
      "text/plain": [
       "              Age  Siblings/Spouses Aboard  Parents/Children Aboard       Fare\n",
       "count  887.000000               887.000000               887.000000  887.00000\n",
       "mean    29.471443                 0.525366                 0.383315   32.30542\n",
       "std     14.121908                 1.104669                 0.807466   49.78204\n",
       "min      0.420000                 0.000000                 0.000000    0.00000\n",
       "25%     20.250000                 0.000000                 0.000000    7.92500\n",
       "50%     28.000000                 0.000000                 0.000000   14.45420\n",
       "75%     38.000000                 1.000000                 0.000000   31.13750\n",
       "max     80.000000                 8.000000                 6.000000  512.32920"
      ]
     },
     "execution_count": 24,
     "metadata": {},
     "output_type": "execute_result"
    }
   ],
   "source": [
    "# display summary statistics for the numerical variables contained in our dataset\n",
    "\n",
    "df_a.describe(include=[np.number])"
   ]
  },
  {
   "cell_type": "markdown",
   "id": "7169dc90",
   "metadata": {},
   "source": [
    "### 1.8b | Summarize all categorical variables in the dataset"
   ]
  },
  {
   "cell_type": "code",
   "execution_count": 25,
   "id": "784d4d6e",
   "metadata": {},
   "outputs": [
    {
     "data": {
      "text/html": [
       "<div>\n",
       "<style scoped>\n",
       "    .dataframe tbody tr th:only-of-type {\n",
       "        vertical-align: middle;\n",
       "    }\n",
       "\n",
       "    .dataframe tbody tr th {\n",
       "        vertical-align: top;\n",
       "    }\n",
       "\n",
       "    .dataframe thead th {\n",
       "        text-align: right;\n",
       "    }\n",
       "</style>\n",
       "<table border=\"1\" class=\"dataframe\">\n",
       "  <thead>\n",
       "    <tr style=\"text-align: right;\">\n",
       "      <th></th>\n",
       "      <th>establishment_record_establishment_category</th>\n",
       "    </tr>\n",
       "  </thead>\n",
       "  <tbody>\n",
       "    <tr>\n",
       "      <th>count</th>\n",
       "      <td>912</td>\n",
       "    </tr>\n",
       "    <tr>\n",
       "      <th>unique</th>\n",
       "      <td>16</td>\n",
       "    </tr>\n",
       "    <tr>\n",
       "      <th>top</th>\n",
       "      <td>Restaurants and Other Eating Places</td>\n",
       "    </tr>\n",
       "    <tr>\n",
       "      <th>freq</th>\n",
       "      <td>738</td>\n",
       "    </tr>\n",
       "  </tbody>\n",
       "</table>\n",
       "</div>"
      ],
      "text/plain": [
       "       establishment_record_establishment_category\n",
       "count                                          912\n",
       "unique                                          16\n",
       "top            Restaurants and Other Eating Places\n",
       "freq                                           738"
      ]
     },
     "execution_count": 25,
     "metadata": {},
     "output_type": "execute_result"
    }
   ],
   "source": [
    "# calculate summary statistics for our dataset's categorical variables\n",
    "\n",
    "df_c.describe(include=['category'])"
   ]
  },
  {
   "cell_type": "markdown",
   "id": "3087b9b8",
   "metadata": {},
   "source": [
    "### *Exemplar copy for published analysis, section 1.:*\n",
    "\n",
    "\n",
    "**First impressions of our dataset:**\n",
    "\n",
    "- our dataset is 9 columns wide and 5226 rows long\n",
    "- each row is a business\n",
    "- several of the columns contain information on the different categories that each business falls into\n",
    "- some of the categorical data is missing or null\n",
    "- the muneric columns are 'Actual Opening Date' and 'Number of Employees'\n",
    "- some of the numerical data is missing or null"
   ]
  },
  {
   "cell_type": "markdown",
   "id": "d71d0884",
   "metadata": {},
   "source": [
    "## 2. Identify and subset the data that's relevant to our research"
   ]
  },
  {
   "cell_type": "markdown",
   "id": "46fab671",
   "metadata": {},
   "source": [
    "### 2.1a | Select data using .loc"
   ]
  },
  {
   "cell_type": "code",
   "execution_count": 26,
   "id": "c39dfda1",
   "metadata": {},
   "outputs": [],
   "source": [
    "# select the columns (all rows) we want to explore further and store them in a variable\n",
    "\n",
    "df_c2 = df_c.loc[:,['establishment_record_dba','establishment_record_establishment_borough', \n",
    "                    'establishment_record_business_sector', 'establishment_record_actual_opening_date', \n",
    "                    'number_of_employees']]"
   ]
  },
  {
   "cell_type": "code",
   "execution_count": 27,
   "id": "9e79c7b7",
   "metadata": {},
   "outputs": [
    {
     "data": {
      "text/plain": [
       "Index(['establishment_record_dba',\n",
       "       'establishment_record_establishment_borough',\n",
       "       'establishment_record_business_sector',\n",
       "       'establishment_record_actual_opening_date', 'number_of_employees'],\n",
       "      dtype='object')"
      ]
     },
     "execution_count": 27,
     "metadata": {},
     "output_type": "execute_result"
    }
   ],
   "source": [
    "df_c2.columns"
   ]
  },
  {
   "cell_type": "markdown",
   "id": "8e642f39",
   "metadata": {},
   "source": [
    "### 2.1b | Select data using .iloc"
   ]
  },
  {
   "cell_type": "code",
   "execution_count": 28,
   "id": "9c054a85",
   "metadata": {},
   "outputs": [],
   "source": [
    "df_c3 = df_c2.iloc[100:111,2:5]"
   ]
  },
  {
   "cell_type": "code",
   "execution_count": 29,
   "id": "26090602",
   "metadata": {},
   "outputs": [
    {
     "data": {
      "text/html": [
       "<div>\n",
       "<style scoped>\n",
       "    .dataframe tbody tr th:only-of-type {\n",
       "        vertical-align: middle;\n",
       "    }\n",
       "\n",
       "    .dataframe tbody tr th {\n",
       "        vertical-align: top;\n",
       "    }\n",
       "\n",
       "    .dataframe thead th {\n",
       "        text-align: right;\n",
       "    }\n",
       "</style>\n",
       "<table border=\"1\" class=\"dataframe\">\n",
       "  <thead>\n",
       "    <tr style=\"text-align: right;\">\n",
       "      <th></th>\n",
       "      <th>establishment_record_business_sector</th>\n",
       "      <th>establishment_record_actual_opening_date</th>\n",
       "      <th>number_of_employees</th>\n",
       "    </tr>\n",
       "  </thead>\n",
       "  <tbody>\n",
       "    <tr>\n",
       "      <th>100</th>\n",
       "      <td>NaN</td>\n",
       "      <td>NaT</td>\n",
       "      <td>75.0</td>\n",
       "    </tr>\n",
       "    <tr>\n",
       "      <th>101</th>\n",
       "      <td>NaN</td>\n",
       "      <td>NaT</td>\n",
       "      <td>5.0</td>\n",
       "    </tr>\n",
       "    <tr>\n",
       "      <th>102</th>\n",
       "      <td>NaN</td>\n",
       "      <td>NaT</td>\n",
       "      <td>2.0</td>\n",
       "    </tr>\n",
       "    <tr>\n",
       "      <th>103</th>\n",
       "      <td>NaN</td>\n",
       "      <td>NaT</td>\n",
       "      <td>20.0</td>\n",
       "    </tr>\n",
       "    <tr>\n",
       "      <th>104</th>\n",
       "      <td>NaN</td>\n",
       "      <td>NaT</td>\n",
       "      <td>2.0</td>\n",
       "    </tr>\n",
       "    <tr>\n",
       "      <th>105</th>\n",
       "      <td>NaN</td>\n",
       "      <td>NaT</td>\n",
       "      <td>2.0</td>\n",
       "    </tr>\n",
       "    <tr>\n",
       "      <th>106</th>\n",
       "      <td>NaN</td>\n",
       "      <td>NaT</td>\n",
       "      <td>40.0</td>\n",
       "    </tr>\n",
       "    <tr>\n",
       "      <th>107</th>\n",
       "      <td>NaN</td>\n",
       "      <td>NaT</td>\n",
       "      <td>4.0</td>\n",
       "    </tr>\n",
       "    <tr>\n",
       "      <th>108</th>\n",
       "      <td>NaN</td>\n",
       "      <td>NaT</td>\n",
       "      <td>10.0</td>\n",
       "    </tr>\n",
       "    <tr>\n",
       "      <th>109</th>\n",
       "      <td>NaN</td>\n",
       "      <td>NaT</td>\n",
       "      <td>15.0</td>\n",
       "    </tr>\n",
       "    <tr>\n",
       "      <th>110</th>\n",
       "      <td>NaN</td>\n",
       "      <td>NaT</td>\n",
       "      <td>4.0</td>\n",
       "    </tr>\n",
       "  </tbody>\n",
       "</table>\n",
       "</div>"
      ],
      "text/plain": [
       "    establishment_record_business_sector  \\\n",
       "100                                  NaN   \n",
       "101                                  NaN   \n",
       "102                                  NaN   \n",
       "103                                  NaN   \n",
       "104                                  NaN   \n",
       "105                                  NaN   \n",
       "106                                  NaN   \n",
       "107                                  NaN   \n",
       "108                                  NaN   \n",
       "109                                  NaN   \n",
       "110                                  NaN   \n",
       "\n",
       "    establishment_record_actual_opening_date  number_of_employees  \n",
       "100                                      NaT                 75.0  \n",
       "101                                      NaT                  5.0  \n",
       "102                                      NaT                  2.0  \n",
       "103                                      NaT                 20.0  \n",
       "104                                      NaT                  2.0  \n",
       "105                                      NaT                  2.0  \n",
       "106                                      NaT                 40.0  \n",
       "107                                      NaT                  4.0  \n",
       "108                                      NaT                 10.0  \n",
       "109                                      NaT                 15.0  \n",
       "110                                      NaT                  4.0  "
      ]
     },
     "execution_count": 29,
     "metadata": {},
     "output_type": "execute_result"
    }
   ],
   "source": [
    "df_c3"
   ]
  },
  {
   "cell_type": "markdown",
   "id": "45d806b6",
   "metadata": {},
   "source": [
    "### 2.2a | Select data based on a single condition"
   ]
  },
  {
   "cell_type": "code",
   "execution_count": 30,
   "id": "45d57d1f",
   "metadata": {},
   "outputs": [],
   "source": [
    "# example using a categorical variable\n",
    "\n",
    "df_females = df_a.loc[df_a['Sex']=='female']"
   ]
  },
  {
   "cell_type": "code",
   "execution_count": 31,
   "id": "2de62679",
   "metadata": {},
   "outputs": [
    {
     "data": {
      "text/html": [
       "<div>\n",
       "<style scoped>\n",
       "    .dataframe tbody tr th:only-of-type {\n",
       "        vertical-align: middle;\n",
       "    }\n",
       "\n",
       "    .dataframe tbody tr th {\n",
       "        vertical-align: top;\n",
       "    }\n",
       "\n",
       "    .dataframe thead th {\n",
       "        text-align: right;\n",
       "    }\n",
       "</style>\n",
       "<table border=\"1\" class=\"dataframe\">\n",
       "  <thead>\n",
       "    <tr style=\"text-align: right;\">\n",
       "      <th></th>\n",
       "      <th>Survived</th>\n",
       "      <th>Pclass</th>\n",
       "      <th>Name</th>\n",
       "      <th>Sex</th>\n",
       "      <th>Age</th>\n",
       "      <th>Siblings/Spouses Aboard</th>\n",
       "      <th>Parents/Children Aboard</th>\n",
       "      <th>Fare</th>\n",
       "    </tr>\n",
       "  </thead>\n",
       "  <tbody>\n",
       "    <tr>\n",
       "      <th>1</th>\n",
       "      <td>True</td>\n",
       "      <td>1</td>\n",
       "      <td>Mrs. John Bradley (Florence Briggs Thayer) Cum...</td>\n",
       "      <td>female</td>\n",
       "      <td>38.0</td>\n",
       "      <td>1</td>\n",
       "      <td>0</td>\n",
       "      <td>71.2833</td>\n",
       "    </tr>\n",
       "    <tr>\n",
       "      <th>2</th>\n",
       "      <td>True</td>\n",
       "      <td>3</td>\n",
       "      <td>Miss. Laina Heikkinen</td>\n",
       "      <td>female</td>\n",
       "      <td>26.0</td>\n",
       "      <td>0</td>\n",
       "      <td>0</td>\n",
       "      <td>7.9250</td>\n",
       "    </tr>\n",
       "    <tr>\n",
       "      <th>3</th>\n",
       "      <td>True</td>\n",
       "      <td>1</td>\n",
       "      <td>Mrs. Jacques Heath (Lily May Peel) Futrelle</td>\n",
       "      <td>female</td>\n",
       "      <td>35.0</td>\n",
       "      <td>1</td>\n",
       "      <td>0</td>\n",
       "      <td>53.1000</td>\n",
       "    </tr>\n",
       "    <tr>\n",
       "      <th>8</th>\n",
       "      <td>True</td>\n",
       "      <td>3</td>\n",
       "      <td>Mrs. Oscar W (Elisabeth Vilhelmina Berg) Johnson</td>\n",
       "      <td>female</td>\n",
       "      <td>27.0</td>\n",
       "      <td>0</td>\n",
       "      <td>2</td>\n",
       "      <td>11.1333</td>\n",
       "    </tr>\n",
       "    <tr>\n",
       "      <th>9</th>\n",
       "      <td>True</td>\n",
       "      <td>2</td>\n",
       "      <td>Mrs. Nicholas (Adele Achem) Nasser</td>\n",
       "      <td>female</td>\n",
       "      <td>14.0</td>\n",
       "      <td>1</td>\n",
       "      <td>0</td>\n",
       "      <td>30.0708</td>\n",
       "    </tr>\n",
       "    <tr>\n",
       "      <th>...</th>\n",
       "      <td>...</td>\n",
       "      <td>...</td>\n",
       "      <td>...</td>\n",
       "      <td>...</td>\n",
       "      <td>...</td>\n",
       "      <td>...</td>\n",
       "      <td>...</td>\n",
       "      <td>...</td>\n",
       "    </tr>\n",
       "    <tr>\n",
       "      <th>876</th>\n",
       "      <td>True</td>\n",
       "      <td>2</td>\n",
       "      <td>Mrs. William (Imanita Parrish Hall) Shelley</td>\n",
       "      <td>female</td>\n",
       "      <td>25.0</td>\n",
       "      <td>0</td>\n",
       "      <td>1</td>\n",
       "      <td>26.0000</td>\n",
       "    </tr>\n",
       "    <tr>\n",
       "      <th>878</th>\n",
       "      <td>False</td>\n",
       "      <td>3</td>\n",
       "      <td>Miss. Gerda Ulrika Dahlberg</td>\n",
       "      <td>female</td>\n",
       "      <td>22.0</td>\n",
       "      <td>0</td>\n",
       "      <td>0</td>\n",
       "      <td>10.5167</td>\n",
       "    </tr>\n",
       "    <tr>\n",
       "      <th>881</th>\n",
       "      <td>False</td>\n",
       "      <td>3</td>\n",
       "      <td>Mrs. William (Margaret Norton) Rice</td>\n",
       "      <td>female</td>\n",
       "      <td>39.0</td>\n",
       "      <td>0</td>\n",
       "      <td>5</td>\n",
       "      <td>29.1250</td>\n",
       "    </tr>\n",
       "    <tr>\n",
       "      <th>883</th>\n",
       "      <td>True</td>\n",
       "      <td>1</td>\n",
       "      <td>Miss. Margaret Edith Graham</td>\n",
       "      <td>female</td>\n",
       "      <td>19.0</td>\n",
       "      <td>0</td>\n",
       "      <td>0</td>\n",
       "      <td>30.0000</td>\n",
       "    </tr>\n",
       "    <tr>\n",
       "      <th>884</th>\n",
       "      <td>False</td>\n",
       "      <td>3</td>\n",
       "      <td>Miss. Catherine Helen Johnston</td>\n",
       "      <td>female</td>\n",
       "      <td>7.0</td>\n",
       "      <td>1</td>\n",
       "      <td>2</td>\n",
       "      <td>23.4500</td>\n",
       "    </tr>\n",
       "  </tbody>\n",
       "</table>\n",
       "<p>314 rows × 8 columns</p>\n",
       "</div>"
      ],
      "text/plain": [
       "     Survived Pclass                                               Name  \\\n",
       "1        True      1  Mrs. John Bradley (Florence Briggs Thayer) Cum...   \n",
       "2        True      3                              Miss. Laina Heikkinen   \n",
       "3        True      1        Mrs. Jacques Heath (Lily May Peel) Futrelle   \n",
       "8        True      3   Mrs. Oscar W (Elisabeth Vilhelmina Berg) Johnson   \n",
       "9        True      2                 Mrs. Nicholas (Adele Achem) Nasser   \n",
       "..        ...    ...                                                ...   \n",
       "876      True      2        Mrs. William (Imanita Parrish Hall) Shelley   \n",
       "878     False      3                        Miss. Gerda Ulrika Dahlberg   \n",
       "881     False      3                Mrs. William (Margaret Norton) Rice   \n",
       "883      True      1                        Miss. Margaret Edith Graham   \n",
       "884     False      3                     Miss. Catherine Helen Johnston   \n",
       "\n",
       "        Sex   Age  Siblings/Spouses Aboard  Parents/Children Aboard     Fare  \n",
       "1    female  38.0                        1                        0  71.2833  \n",
       "2    female  26.0                        0                        0   7.9250  \n",
       "3    female  35.0                        1                        0  53.1000  \n",
       "8    female  27.0                        0                        2  11.1333  \n",
       "9    female  14.0                        1                        0  30.0708  \n",
       "..      ...   ...                      ...                      ...      ...  \n",
       "876  female  25.0                        0                        1  26.0000  \n",
       "878  female  22.0                        0                        0  10.5167  \n",
       "881  female  39.0                        0                        5  29.1250  \n",
       "883  female  19.0                        0                        0  30.0000  \n",
       "884  female   7.0                        1                        2  23.4500  \n",
       "\n",
       "[314 rows x 8 columns]"
      ]
     },
     "execution_count": 31,
     "metadata": {},
     "output_type": "execute_result"
    }
   ],
   "source": [
    "df_females"
   ]
  },
  {
   "cell_type": "code",
   "execution_count": 32,
   "id": "02536917",
   "metadata": {},
   "outputs": [],
   "source": [
    "# example using a numerical variable\n",
    "\n",
    "dfy = df_a.loc[df_a['Age']<=18]"
   ]
  },
  {
   "cell_type": "code",
   "execution_count": 33,
   "id": "167e6a87",
   "metadata": {
    "scrolled": true
   },
   "outputs": [
    {
     "data": {
      "text/html": [
       "<div>\n",
       "<style scoped>\n",
       "    .dataframe tbody tr th:only-of-type {\n",
       "        vertical-align: middle;\n",
       "    }\n",
       "\n",
       "    .dataframe tbody tr th {\n",
       "        vertical-align: top;\n",
       "    }\n",
       "\n",
       "    .dataframe thead th {\n",
       "        text-align: right;\n",
       "    }\n",
       "</style>\n",
       "<table border=\"1\" class=\"dataframe\">\n",
       "  <thead>\n",
       "    <tr style=\"text-align: right;\">\n",
       "      <th></th>\n",
       "      <th>Survived</th>\n",
       "      <th>Pclass</th>\n",
       "      <th>Name</th>\n",
       "      <th>Sex</th>\n",
       "      <th>Age</th>\n",
       "      <th>Siblings/Spouses Aboard</th>\n",
       "      <th>Parents/Children Aboard</th>\n",
       "      <th>Fare</th>\n",
       "    </tr>\n",
       "  </thead>\n",
       "  <tbody>\n",
       "    <tr>\n",
       "      <th>7</th>\n",
       "      <td>False</td>\n",
       "      <td>3</td>\n",
       "      <td>Master. Gosta Leonard Palsson</td>\n",
       "      <td>male</td>\n",
       "      <td>2.0</td>\n",
       "      <td>3</td>\n",
       "      <td>1</td>\n",
       "      <td>21.0750</td>\n",
       "    </tr>\n",
       "    <tr>\n",
       "      <th>9</th>\n",
       "      <td>True</td>\n",
       "      <td>2</td>\n",
       "      <td>Mrs. Nicholas (Adele Achem) Nasser</td>\n",
       "      <td>female</td>\n",
       "      <td>14.0</td>\n",
       "      <td>1</td>\n",
       "      <td>0</td>\n",
       "      <td>30.0708</td>\n",
       "    </tr>\n",
       "    <tr>\n",
       "      <th>10</th>\n",
       "      <td>True</td>\n",
       "      <td>3</td>\n",
       "      <td>Miss. Marguerite Rut Sandstrom</td>\n",
       "      <td>female</td>\n",
       "      <td>4.0</td>\n",
       "      <td>1</td>\n",
       "      <td>1</td>\n",
       "      <td>16.7000</td>\n",
       "    </tr>\n",
       "    <tr>\n",
       "      <th>14</th>\n",
       "      <td>False</td>\n",
       "      <td>3</td>\n",
       "      <td>Miss. Hulda Amanda Adolfina Vestrom</td>\n",
       "      <td>female</td>\n",
       "      <td>14.0</td>\n",
       "      <td>0</td>\n",
       "      <td>0</td>\n",
       "      <td>7.8542</td>\n",
       "    </tr>\n",
       "    <tr>\n",
       "      <th>16</th>\n",
       "      <td>False</td>\n",
       "      <td>3</td>\n",
       "      <td>Master. Eugene Rice</td>\n",
       "      <td>male</td>\n",
       "      <td>2.0</td>\n",
       "      <td>4</td>\n",
       "      <td>1</td>\n",
       "      <td>29.1250</td>\n",
       "    </tr>\n",
       "    <tr>\n",
       "      <th>...</th>\n",
       "      <td>...</td>\n",
       "      <td>...</td>\n",
       "      <td>...</td>\n",
       "      <td>...</td>\n",
       "      <td>...</td>\n",
       "      <td>...</td>\n",
       "      <td>...</td>\n",
       "      <td>...</td>\n",
       "    </tr>\n",
       "    <tr>\n",
       "      <th>851</th>\n",
       "      <td>True</td>\n",
       "      <td>3</td>\n",
       "      <td>Mrs. Sam (Leah Rosen) Aks</td>\n",
       "      <td>female</td>\n",
       "      <td>18.0</td>\n",
       "      <td>0</td>\n",
       "      <td>1</td>\n",
       "      <td>9.3500</td>\n",
       "    </tr>\n",
       "    <tr>\n",
       "      <th>859</th>\n",
       "      <td>False</td>\n",
       "      <td>3</td>\n",
       "      <td>Miss. Dorothy Edith Sage</td>\n",
       "      <td>female</td>\n",
       "      <td>14.0</td>\n",
       "      <td>8</td>\n",
       "      <td>2</td>\n",
       "      <td>69.5500</td>\n",
       "    </tr>\n",
       "    <tr>\n",
       "      <th>865</th>\n",
       "      <td>True</td>\n",
       "      <td>3</td>\n",
       "      <td>Master. Harold Theodor Johnson</td>\n",
       "      <td>male</td>\n",
       "      <td>4.0</td>\n",
       "      <td>1</td>\n",
       "      <td>1</td>\n",
       "      <td>11.1333</td>\n",
       "    </tr>\n",
       "    <tr>\n",
       "      <th>871</th>\n",
       "      <td>True</td>\n",
       "      <td>3</td>\n",
       "      <td>Miss. Adele Kiamie Najib</td>\n",
       "      <td>female</td>\n",
       "      <td>15.0</td>\n",
       "      <td>0</td>\n",
       "      <td>0</td>\n",
       "      <td>7.2250</td>\n",
       "    </tr>\n",
       "    <tr>\n",
       "      <th>884</th>\n",
       "      <td>False</td>\n",
       "      <td>3</td>\n",
       "      <td>Miss. Catherine Helen Johnston</td>\n",
       "      <td>female</td>\n",
       "      <td>7.0</td>\n",
       "      <td>1</td>\n",
       "      <td>2</td>\n",
       "      <td>23.4500</td>\n",
       "    </tr>\n",
       "  </tbody>\n",
       "</table>\n",
       "<p>166 rows × 8 columns</p>\n",
       "</div>"
      ],
      "text/plain": [
       "     Survived Pclass                                 Name     Sex   Age  \\\n",
       "7       False      3        Master. Gosta Leonard Palsson    male   2.0   \n",
       "9        True      2   Mrs. Nicholas (Adele Achem) Nasser  female  14.0   \n",
       "10       True      3       Miss. Marguerite Rut Sandstrom  female   4.0   \n",
       "14      False      3  Miss. Hulda Amanda Adolfina Vestrom  female  14.0   \n",
       "16      False      3                  Master. Eugene Rice    male   2.0   \n",
       "..        ...    ...                                  ...     ...   ...   \n",
       "851      True      3            Mrs. Sam (Leah Rosen) Aks  female  18.0   \n",
       "859     False      3             Miss. Dorothy Edith Sage  female  14.0   \n",
       "865      True      3       Master. Harold Theodor Johnson    male   4.0   \n",
       "871      True      3             Miss. Adele Kiamie Najib  female  15.0   \n",
       "884     False      3       Miss. Catherine Helen Johnston  female   7.0   \n",
       "\n",
       "     Siblings/Spouses Aboard  Parents/Children Aboard     Fare  \n",
       "7                          3                        1  21.0750  \n",
       "9                          1                        0  30.0708  \n",
       "10                         1                        1  16.7000  \n",
       "14                         0                        0   7.8542  \n",
       "16                         4                        1  29.1250  \n",
       "..                       ...                      ...      ...  \n",
       "851                        0                        1   9.3500  \n",
       "859                        8                        2  69.5500  \n",
       "865                        1                        1  11.1333  \n",
       "871                        0                        0   7.2250  \n",
       "884                        1                        2  23.4500  \n",
       "\n",
       "[166 rows x 8 columns]"
      ]
     },
     "execution_count": 33,
     "metadata": {},
     "output_type": "execute_result"
    }
   ],
   "source": [
    "dfy"
   ]
  },
  {
   "cell_type": "markdown",
   "id": "d4030337",
   "metadata": {},
   "source": [
    "### 2.2b | Select data based on multiple conditions"
   ]
  },
  {
   "cell_type": "code",
   "execution_count": 34,
   "id": "1046fa07",
   "metadata": {},
   "outputs": [],
   "source": [
    "df_women_and_children = df_a.loc[(df_a['Sex']=='female') | (df_a['Age'] < 18)]\n",
    "\n",
    "# --logical operators--\n",
    "# and: &\n",
    "# or: |\n",
    "# equal to: ==\n",
    "# not equal to: !="
   ]
  },
  {
   "cell_type": "code",
   "execution_count": 35,
   "id": "55464cb8",
   "metadata": {},
   "outputs": [
    {
     "data": {
      "text/html": [
       "<div>\n",
       "<style scoped>\n",
       "    .dataframe tbody tr th:only-of-type {\n",
       "        vertical-align: middle;\n",
       "    }\n",
       "\n",
       "    .dataframe tbody tr th {\n",
       "        vertical-align: top;\n",
       "    }\n",
       "\n",
       "    .dataframe thead th {\n",
       "        text-align: right;\n",
       "    }\n",
       "</style>\n",
       "<table border=\"1\" class=\"dataframe\">\n",
       "  <thead>\n",
       "    <tr style=\"text-align: right;\">\n",
       "      <th></th>\n",
       "      <th>Survived</th>\n",
       "      <th>Pclass</th>\n",
       "      <th>Name</th>\n",
       "      <th>Sex</th>\n",
       "      <th>Age</th>\n",
       "      <th>Siblings/Spouses Aboard</th>\n",
       "      <th>Parents/Children Aboard</th>\n",
       "      <th>Fare</th>\n",
       "    </tr>\n",
       "  </thead>\n",
       "  <tbody>\n",
       "    <tr>\n",
       "      <th>1</th>\n",
       "      <td>True</td>\n",
       "      <td>1</td>\n",
       "      <td>Mrs. John Bradley (Florence Briggs Thayer) Cum...</td>\n",
       "      <td>female</td>\n",
       "      <td>38.0</td>\n",
       "      <td>1</td>\n",
       "      <td>0</td>\n",
       "      <td>71.2833</td>\n",
       "    </tr>\n",
       "    <tr>\n",
       "      <th>2</th>\n",
       "      <td>True</td>\n",
       "      <td>3</td>\n",
       "      <td>Miss. Laina Heikkinen</td>\n",
       "      <td>female</td>\n",
       "      <td>26.0</td>\n",
       "      <td>0</td>\n",
       "      <td>0</td>\n",
       "      <td>7.9250</td>\n",
       "    </tr>\n",
       "    <tr>\n",
       "      <th>3</th>\n",
       "      <td>True</td>\n",
       "      <td>1</td>\n",
       "      <td>Mrs. Jacques Heath (Lily May Peel) Futrelle</td>\n",
       "      <td>female</td>\n",
       "      <td>35.0</td>\n",
       "      <td>1</td>\n",
       "      <td>0</td>\n",
       "      <td>53.1000</td>\n",
       "    </tr>\n",
       "    <tr>\n",
       "      <th>7</th>\n",
       "      <td>False</td>\n",
       "      <td>3</td>\n",
       "      <td>Master. Gosta Leonard Palsson</td>\n",
       "      <td>male</td>\n",
       "      <td>2.0</td>\n",
       "      <td>3</td>\n",
       "      <td>1</td>\n",
       "      <td>21.0750</td>\n",
       "    </tr>\n",
       "    <tr>\n",
       "      <th>8</th>\n",
       "      <td>True</td>\n",
       "      <td>3</td>\n",
       "      <td>Mrs. Oscar W (Elisabeth Vilhelmina Berg) Johnson</td>\n",
       "      <td>female</td>\n",
       "      <td>27.0</td>\n",
       "      <td>0</td>\n",
       "      <td>2</td>\n",
       "      <td>11.1333</td>\n",
       "    </tr>\n",
       "    <tr>\n",
       "      <th>...</th>\n",
       "      <td>...</td>\n",
       "      <td>...</td>\n",
       "      <td>...</td>\n",
       "      <td>...</td>\n",
       "      <td>...</td>\n",
       "      <td>...</td>\n",
       "      <td>...</td>\n",
       "      <td>...</td>\n",
       "    </tr>\n",
       "    <tr>\n",
       "      <th>876</th>\n",
       "      <td>True</td>\n",
       "      <td>2</td>\n",
       "      <td>Mrs. William (Imanita Parrish Hall) Shelley</td>\n",
       "      <td>female</td>\n",
       "      <td>25.0</td>\n",
       "      <td>0</td>\n",
       "      <td>1</td>\n",
       "      <td>26.0000</td>\n",
       "    </tr>\n",
       "    <tr>\n",
       "      <th>878</th>\n",
       "      <td>False</td>\n",
       "      <td>3</td>\n",
       "      <td>Miss. Gerda Ulrika Dahlberg</td>\n",
       "      <td>female</td>\n",
       "      <td>22.0</td>\n",
       "      <td>0</td>\n",
       "      <td>0</td>\n",
       "      <td>10.5167</td>\n",
       "    </tr>\n",
       "    <tr>\n",
       "      <th>881</th>\n",
       "      <td>False</td>\n",
       "      <td>3</td>\n",
       "      <td>Mrs. William (Margaret Norton) Rice</td>\n",
       "      <td>female</td>\n",
       "      <td>39.0</td>\n",
       "      <td>0</td>\n",
       "      <td>5</td>\n",
       "      <td>29.1250</td>\n",
       "    </tr>\n",
       "    <tr>\n",
       "      <th>883</th>\n",
       "      <td>True</td>\n",
       "      <td>1</td>\n",
       "      <td>Miss. Margaret Edith Graham</td>\n",
       "      <td>female</td>\n",
       "      <td>19.0</td>\n",
       "      <td>0</td>\n",
       "      <td>0</td>\n",
       "      <td>30.0000</td>\n",
       "    </tr>\n",
       "    <tr>\n",
       "      <th>884</th>\n",
       "      <td>False</td>\n",
       "      <td>3</td>\n",
       "      <td>Miss. Catherine Helen Johnston</td>\n",
       "      <td>female</td>\n",
       "      <td>7.0</td>\n",
       "      <td>1</td>\n",
       "      <td>2</td>\n",
       "      <td>23.4500</td>\n",
       "    </tr>\n",
       "  </tbody>\n",
       "</table>\n",
       "<p>381 rows × 8 columns</p>\n",
       "</div>"
      ],
      "text/plain": [
       "     Survived Pclass                                               Name  \\\n",
       "1        True      1  Mrs. John Bradley (Florence Briggs Thayer) Cum...   \n",
       "2        True      3                              Miss. Laina Heikkinen   \n",
       "3        True      1        Mrs. Jacques Heath (Lily May Peel) Futrelle   \n",
       "7       False      3                      Master. Gosta Leonard Palsson   \n",
       "8        True      3   Mrs. Oscar W (Elisabeth Vilhelmina Berg) Johnson   \n",
       "..        ...    ...                                                ...   \n",
       "876      True      2        Mrs. William (Imanita Parrish Hall) Shelley   \n",
       "878     False      3                        Miss. Gerda Ulrika Dahlberg   \n",
       "881     False      3                Mrs. William (Margaret Norton) Rice   \n",
       "883      True      1                        Miss. Margaret Edith Graham   \n",
       "884     False      3                     Miss. Catherine Helen Johnston   \n",
       "\n",
       "        Sex   Age  Siblings/Spouses Aboard  Parents/Children Aboard     Fare  \n",
       "1    female  38.0                        1                        0  71.2833  \n",
       "2    female  26.0                        0                        0   7.9250  \n",
       "3    female  35.0                        1                        0  53.1000  \n",
       "7      male   2.0                        3                        1  21.0750  \n",
       "8    female  27.0                        0                        2  11.1333  \n",
       "..      ...   ...                      ...                      ...      ...  \n",
       "876  female  25.0                        0                        1  26.0000  \n",
       "878  female  22.0                        0                        0  10.5167  \n",
       "881  female  39.0                        0                        5  29.1250  \n",
       "883  female  19.0                        0                        0  30.0000  \n",
       "884  female   7.0                        1                        2  23.4500  \n",
       "\n",
       "[381 rows x 8 columns]"
      ]
     },
     "execution_count": 35,
     "metadata": {},
     "output_type": "execute_result"
    }
   ],
   "source": [
    "df_women_and_children"
   ]
  },
  {
   "cell_type": "markdown",
   "id": "27fd5488",
   "metadata": {},
   "source": [
    "### 2.3 | Select data using a substring method and a boolean mask"
   ]
  },
  {
   "cell_type": "code",
   "execution_count": 36,
   "id": "32887f3e",
   "metadata": {},
   "outputs": [],
   "source": [
    "# first, cast the series as a string dtype if it is not aslready\n",
    "\n",
    "df_a['Name'] = df_a['Name'].astype('string')"
   ]
  },
  {
   "cell_type": "code",
   "execution_count": 37,
   "id": "3aab0a43",
   "metadata": {},
   "outputs": [],
   "source": [
    "patricks = df_a['Name'].str.contains('Patrick')"
   ]
  },
  {
   "cell_type": "code",
   "execution_count": 38,
   "id": "428e8651",
   "metadata": {},
   "outputs": [
    {
     "data": {
      "text/html": [
       "<div>\n",
       "<style scoped>\n",
       "    .dataframe tbody tr th:only-of-type {\n",
       "        vertical-align: middle;\n",
       "    }\n",
       "\n",
       "    .dataframe tbody tr th {\n",
       "        vertical-align: top;\n",
       "    }\n",
       "\n",
       "    .dataframe thead th {\n",
       "        text-align: right;\n",
       "    }\n",
       "</style>\n",
       "<table border=\"1\" class=\"dataframe\">\n",
       "  <thead>\n",
       "    <tr style=\"text-align: right;\">\n",
       "      <th></th>\n",
       "      <th>Survived</th>\n",
       "      <th>Pclass</th>\n",
       "      <th>Name</th>\n",
       "      <th>Sex</th>\n",
       "      <th>Age</th>\n",
       "      <th>Siblings/Spouses Aboard</th>\n",
       "      <th>Parents/Children Aboard</th>\n",
       "      <th>Fare</th>\n",
       "    </tr>\n",
       "  </thead>\n",
       "  <tbody>\n",
       "    <tr>\n",
       "      <th>115</th>\n",
       "      <td>False</td>\n",
       "      <td>3</td>\n",
       "      <td>Mr. Patrick Connors</td>\n",
       "      <td>male</td>\n",
       "      <td>70.5</td>\n",
       "      <td>0</td>\n",
       "      <td>0</td>\n",
       "      <td>7.7500</td>\n",
       "    </tr>\n",
       "    <tr>\n",
       "      <th>507</th>\n",
       "      <td>True</td>\n",
       "      <td>3</td>\n",
       "      <td>Mr. Eugene Patrick Daly</td>\n",
       "      <td>male</td>\n",
       "      <td>29.0</td>\n",
       "      <td>0</td>\n",
       "      <td>0</td>\n",
       "      <td>7.7500</td>\n",
       "    </tr>\n",
       "    <tr>\n",
       "      <th>514</th>\n",
       "      <td>False</td>\n",
       "      <td>3</td>\n",
       "      <td>Mr. Patrick Ryan</td>\n",
       "      <td>male</td>\n",
       "      <td>30.0</td>\n",
       "      <td>0</td>\n",
       "      <td>0</td>\n",
       "      <td>24.1500</td>\n",
       "    </tr>\n",
       "    <tr>\n",
       "      <th>626</th>\n",
       "      <td>False</td>\n",
       "      <td>3</td>\n",
       "      <td>Mr. Patrick D O'Connell</td>\n",
       "      <td>male</td>\n",
       "      <td>18.0</td>\n",
       "      <td>0</td>\n",
       "      <td>0</td>\n",
       "      <td>7.7333</td>\n",
       "    </tr>\n",
       "    <tr>\n",
       "      <th>886</th>\n",
       "      <td>False</td>\n",
       "      <td>3</td>\n",
       "      <td>Mr. Patrick Dooley</td>\n",
       "      <td>male</td>\n",
       "      <td>32.0</td>\n",
       "      <td>0</td>\n",
       "      <td>0</td>\n",
       "      <td>7.7500</td>\n",
       "    </tr>\n",
       "  </tbody>\n",
       "</table>\n",
       "</div>"
      ],
      "text/plain": [
       "     Survived Pclass                     Name   Sex   Age  \\\n",
       "115     False      3      Mr. Patrick Connors  male  70.5   \n",
       "507      True      3  Mr. Eugene Patrick Daly  male  29.0   \n",
       "514     False      3         Mr. Patrick Ryan  male  30.0   \n",
       "626     False      3  Mr. Patrick D O'Connell  male  18.0   \n",
       "886     False      3       Mr. Patrick Dooley  male  32.0   \n",
       "\n",
       "     Siblings/Spouses Aboard  Parents/Children Aboard     Fare  \n",
       "115                        0                        0   7.7500  \n",
       "507                        0                        0   7.7500  \n",
       "514                        0                        0  24.1500  \n",
       "626                        0                        0   7.7333  \n",
       "886                        0                        0   7.7500  "
      ]
     },
     "execution_count": 38,
     "metadata": {},
     "output_type": "execute_result"
    }
   ],
   "source": [
    "df_a[patricks]"
   ]
  },
  {
   "cell_type": "markdown",
   "id": "730d53f1",
   "metadata": {},
   "source": [
    "### 2.4 | Select data using the .isin method"
   ]
  },
  {
   "cell_type": "code",
   "execution_count": 39,
   "id": "ec7f9cb3",
   "metadata": {},
   "outputs": [
    {
     "data": {
      "text/html": [
       "<div>\n",
       "<style scoped>\n",
       "    .dataframe tbody tr th:only-of-type {\n",
       "        vertical-align: middle;\n",
       "    }\n",
       "\n",
       "    .dataframe tbody tr th {\n",
       "        vertical-align: top;\n",
       "    }\n",
       "\n",
       "    .dataframe thead th {\n",
       "        text-align: right;\n",
       "    }\n",
       "</style>\n",
       "<table border=\"1\" class=\"dataframe\">\n",
       "  <thead>\n",
       "    <tr style=\"text-align: right;\">\n",
       "      <th></th>\n",
       "      <th>establishment_record_dba</th>\n",
       "      <th>establishment_record_establishment_street</th>\n",
       "      <th>establishment_record_establishment_zip</th>\n",
       "      <th>establishment_record_establishment_borough</th>\n",
       "      <th>establishment_record_business_sector</th>\n",
       "      <th>establishment_record_establishment_category</th>\n",
       "      <th>establishment_record_actual_opening_date</th>\n",
       "      <th>number_of_employees</th>\n",
       "      <th>establishment_record_type_of_cuisine</th>\n",
       "    </tr>\n",
       "  </thead>\n",
       "  <tbody>\n",
       "    <tr>\n",
       "      <th>1</th>\n",
       "      <td>Palermo Salumeria</td>\n",
       "      <td>33-35 Francis Lewis Blvd</td>\n",
       "      <td>11358</td>\n",
       "      <td>Queens</td>\n",
       "      <td>NaN</td>\n",
       "      <td>NaN</td>\n",
       "      <td>NaT</td>\n",
       "      <td>NaN</td>\n",
       "      <td>NaN</td>\n",
       "    </tr>\n",
       "    <tr>\n",
       "      <th>3</th>\n",
       "      <td>Cultural Xchange</td>\n",
       "      <td>35 Lafayette Ave</td>\n",
       "      <td>11217</td>\n",
       "      <td>Brooklyn</td>\n",
       "      <td>NaN</td>\n",
       "      <td>NaN</td>\n",
       "      <td>NaT</td>\n",
       "      <td>3.0</td>\n",
       "      <td>NaN</td>\n",
       "    </tr>\n",
       "    <tr>\n",
       "      <th>4</th>\n",
       "      <td>ST. JOHNS CHURCH</td>\n",
       "      <td>90-37 213 Street</td>\n",
       "      <td>11428</td>\n",
       "      <td>Queens</td>\n",
       "      <td>NaN</td>\n",
       "      <td>NaN</td>\n",
       "      <td>NaT</td>\n",
       "      <td>NaN</td>\n",
       "      <td>NaN</td>\n",
       "    </tr>\n",
       "    <tr>\n",
       "      <th>6</th>\n",
       "      <td>Marmar Restaurant</td>\n",
       "      <td>370 Forest Ave.</td>\n",
       "      <td>10301</td>\n",
       "      <td>Staten Island</td>\n",
       "      <td>Accommodations and Food</td>\n",
       "      <td>Restaurants and Other Eating Places</td>\n",
       "      <td>2017-01-21</td>\n",
       "      <td>NaN</td>\n",
       "      <td>Mediterranean</td>\n",
       "    </tr>\n",
       "    <tr>\n",
       "      <th>7</th>\n",
       "      <td>Celestiano</td>\n",
       "      <td>562 Halsey Street</td>\n",
       "      <td>11233</td>\n",
       "      <td>Brooklyn</td>\n",
       "      <td>NaN</td>\n",
       "      <td>NaN</td>\n",
       "      <td>NaT</td>\n",
       "      <td>6.0</td>\n",
       "      <td>NaN</td>\n",
       "    </tr>\n",
       "    <tr>\n",
       "      <th>...</th>\n",
       "      <td>...</td>\n",
       "      <td>...</td>\n",
       "      <td>...</td>\n",
       "      <td>...</td>\n",
       "      <td>...</td>\n",
       "      <td>...</td>\n",
       "      <td>...</td>\n",
       "      <td>...</td>\n",
       "      <td>...</td>\n",
       "    </tr>\n",
       "    <tr>\n",
       "      <th>1994</th>\n",
       "      <td>Twist and Smash'd</td>\n",
       "      <td>34-02 Steinway Street</td>\n",
       "      <td>11101</td>\n",
       "      <td>Queens</td>\n",
       "      <td>Accommodations and Food</td>\n",
       "      <td>Restaurants and Other Eating Places</td>\n",
       "      <td>2014-05-01</td>\n",
       "      <td>50.0</td>\n",
       "      <td>American</td>\n",
       "    </tr>\n",
       "    <tr>\n",
       "      <th>1995</th>\n",
       "      <td>Delaware and Hudson</td>\n",
       "      <td>135 North Fifth St.</td>\n",
       "      <td>11211</td>\n",
       "      <td>Brooklyn</td>\n",
       "      <td>Accommodations and Food</td>\n",
       "      <td>Restaurants and Other Eating Places</td>\n",
       "      <td>2014-05-01</td>\n",
       "      <td>20.0</td>\n",
       "      <td>American</td>\n",
       "    </tr>\n",
       "    <tr>\n",
       "      <th>1996</th>\n",
       "      <td>Mango's Jamaican Kitchen &amp; Grill</td>\n",
       "      <td>13324 Springfield Blvd.</td>\n",
       "      <td>11413</td>\n",
       "      <td>Queens</td>\n",
       "      <td>Accommodations and Food</td>\n",
       "      <td>Restaurants and Other Eating Places</td>\n",
       "      <td>2014-05-01</td>\n",
       "      <td>20.0</td>\n",
       "      <td>NaN</td>\n",
       "    </tr>\n",
       "    <tr>\n",
       "      <th>1998</th>\n",
       "      <td>80s Tea</td>\n",
       "      <td>68-15 Bay Parkway</td>\n",
       "      <td>11204</td>\n",
       "      <td>Brooklyn</td>\n",
       "      <td>Accommodations and Food</td>\n",
       "      <td>Restaurants and Other Eating Places</td>\n",
       "      <td>2017-06-20</td>\n",
       "      <td>NaN</td>\n",
       "      <td>NaN</td>\n",
       "    </tr>\n",
       "    <tr>\n",
       "      <th>1999</th>\n",
       "      <td>Joeseppi Pizzeria Restaurant</td>\n",
       "      <td>276 KNICKERBOCKER Ave.</td>\n",
       "      <td>11237</td>\n",
       "      <td>Brooklyn</td>\n",
       "      <td>NaN</td>\n",
       "      <td>NaN</td>\n",
       "      <td>2014-05-02</td>\n",
       "      <td>2.0</td>\n",
       "      <td>NaN</td>\n",
       "    </tr>\n",
       "  </tbody>\n",
       "</table>\n",
       "<p>1140 rows × 9 columns</p>\n",
       "</div>"
      ],
      "text/plain": [
       "              establishment_record_dba  \\\n",
       "1                    Palermo Salumeria   \n",
       "3                     Cultural Xchange   \n",
       "4                     ST. JOHNS CHURCH   \n",
       "6                    Marmar Restaurant   \n",
       "7                           Celestiano   \n",
       "...                                ...   \n",
       "1994                 Twist and Smash'd   \n",
       "1995               Delaware and Hudson   \n",
       "1996  Mango's Jamaican Kitchen & Grill   \n",
       "1998                           80s Tea   \n",
       "1999      Joeseppi Pizzeria Restaurant   \n",
       "\n",
       "     establishment_record_establishment_street  \\\n",
       "1                     33-35 Francis Lewis Blvd   \n",
       "3                             35 Lafayette Ave   \n",
       "4                             90-37 213 Street   \n",
       "6                              370 Forest Ave.   \n",
       "7                            562 Halsey Street   \n",
       "...                                        ...   \n",
       "1994                     34-02 Steinway Street   \n",
       "1995                       135 North Fifth St.   \n",
       "1996                   13324 Springfield Blvd.   \n",
       "1998                         68-15 Bay Parkway   \n",
       "1999                    276 KNICKERBOCKER Ave.   \n",
       "\n",
       "     establishment_record_establishment_zip  \\\n",
       "1                                     11358   \n",
       "3                                     11217   \n",
       "4                                     11428   \n",
       "6                                     10301   \n",
       "7                                     11233   \n",
       "...                                     ...   \n",
       "1994                                  11101   \n",
       "1995                                  11211   \n",
       "1996                                  11413   \n",
       "1998                                  11204   \n",
       "1999                                  11237   \n",
       "\n",
       "     establishment_record_establishment_borough  \\\n",
       "1                                        Queens   \n",
       "3                                      Brooklyn   \n",
       "4                                        Queens   \n",
       "6                                 Staten Island   \n",
       "7                                      Brooklyn   \n",
       "...                                         ...   \n",
       "1994                                     Queens   \n",
       "1995                                   Brooklyn   \n",
       "1996                                     Queens   \n",
       "1998                                   Brooklyn   \n",
       "1999                                   Brooklyn   \n",
       "\n",
       "     establishment_record_business_sector  \\\n",
       "1                                     NaN   \n",
       "3                                     NaN   \n",
       "4                                     NaN   \n",
       "6                 Accommodations and Food   \n",
       "7                                     NaN   \n",
       "...                                   ...   \n",
       "1994              Accommodations and Food   \n",
       "1995              Accommodations and Food   \n",
       "1996              Accommodations and Food   \n",
       "1998              Accommodations and Food   \n",
       "1999                                  NaN   \n",
       "\n",
       "     establishment_record_establishment_category  \\\n",
       "1                                            NaN   \n",
       "3                                            NaN   \n",
       "4                                            NaN   \n",
       "6            Restaurants and Other Eating Places   \n",
       "7                                            NaN   \n",
       "...                                          ...   \n",
       "1994         Restaurants and Other Eating Places   \n",
       "1995         Restaurants and Other Eating Places   \n",
       "1996         Restaurants and Other Eating Places   \n",
       "1998         Restaurants and Other Eating Places   \n",
       "1999                                         NaN   \n",
       "\n",
       "     establishment_record_actual_opening_date  number_of_employees  \\\n",
       "1                                         NaT                  NaN   \n",
       "3                                         NaT                  3.0   \n",
       "4                                         NaT                  NaN   \n",
       "6                                  2017-01-21                  NaN   \n",
       "7                                         NaT                  6.0   \n",
       "...                                       ...                  ...   \n",
       "1994                               2014-05-01                 50.0   \n",
       "1995                               2014-05-01                 20.0   \n",
       "1996                               2014-05-01                 20.0   \n",
       "1998                               2017-06-20                  NaN   \n",
       "1999                               2014-05-02                  2.0   \n",
       "\n",
       "     establishment_record_type_of_cuisine  \n",
       "1                                     NaN  \n",
       "3                                     NaN  \n",
       "4                                     NaN  \n",
       "6                           Mediterranean  \n",
       "7                                     NaN  \n",
       "...                                   ...  \n",
       "1994                             American  \n",
       "1995                             American  \n",
       "1996                                  NaN  \n",
       "1998                                  NaN  \n",
       "1999                                  NaN  \n",
       "\n",
       "[1140 rows x 9 columns]"
      ]
     },
     "execution_count": 39,
     "metadata": {},
     "output_type": "execute_result"
    }
   ],
   "source": [
    "# first, create a mask\n",
    "\n",
    "bridge_and_tunnel = df_c['establishment_record_establishment_borough'].isin(['Brooklyn', 'Bronx', 'Queens', 'Staten Island'])\n",
    "\n",
    "# then apply the mask to the original DataFrame\n",
    "\n",
    "df_c[bridge_and_tunnel]"
   ]
  },
  {
   "cell_type": "markdown",
   "id": "1b3dbedd",
   "metadata": {},
   "source": [
    "### *Exemplar copy for published analysis, section 2.:*\n",
    "\n",
    "**Let's take a closer look at the following variables:**\n",
    "\n",
    "- establishment_record_dba\n",
    "- establishment_record_establishment_borough\n",
    "- establishment_record_business_sector\n",
    "- establishment_record_actual_opening_date\n",
    "- number_of_employees"
   ]
  },
  {
   "cell_type": "markdown",
   "id": "b0305fcb",
   "metadata": {},
   "source": [
    "## 3. Summarize and describe the contents of the dataset"
   ]
  },
  {
   "cell_type": "code",
   "execution_count": 40,
   "id": "94c5cbc5",
   "metadata": {},
   "outputs": [],
   "source": [
    "# in production, add a short description of each calculation or plot in the as a comment in each code cell"
   ]
  },
  {
   "cell_type": "markdown",
   "id": "07eaf7ec",
   "metadata": {},
   "source": [
    "### 3.1a | Call an aggregate function on a single series"
   ]
  },
  {
   "cell_type": "code",
   "execution_count": 41,
   "id": "ccfafa64",
   "metadata": {},
   "outputs": [
    {
     "data": {
      "text/plain": [
       "29.471443066516347"
      ]
     },
     "execution_count": 41,
     "metadata": {},
     "output_type": "execute_result"
    }
   ],
   "source": [
    "df_a['Age'].mean()"
   ]
  },
  {
   "cell_type": "markdown",
   "id": "c3ed78df",
   "metadata": {},
   "source": [
    "### 3.1b | Call an aggregate function on multiple series"
   ]
  },
  {
   "cell_type": "code",
   "execution_count": 42,
   "id": "c6af28cd",
   "metadata": {},
   "outputs": [
    {
     "data": {
      "text/plain": [
       "Age     28.0000\n",
       "Fare    14.4542\n",
       "dtype: float64"
      ]
     },
     "execution_count": 42,
     "metadata": {},
     "output_type": "execute_result"
    }
   ],
   "source": [
    "df_a[['Age', 'Fare']].median()"
   ]
  },
  {
   "cell_type": "markdown",
   "id": "4600f202",
   "metadata": {},
   "source": [
    "**Frequently Used Aggregate Functions:**\n",
    "\n",
    "| Aggregate Function | Description                      |\n",
    "|--------------------|----------------------------------|\n",
    "| abs()              | Absolute Value                   |\n",
    "| count()            | Computes the number of non-null observations in each group  |\n",
    "| cumprod()          | Cumulative Product               |\n",
    "| cumsum()           | Cumulative Sum                   |\n",
    "| max()              | Maximum Value                    |\n",
    "| mean()             | Computes mean values for each group |\n",
    "| median()           | Median of Values                 |\n",
    "| min()              | Minimum Value                    |\n",
    "| mode()             | Mode of values                   |\n",
    "| n()                | Gives nth value, in each group | \n",
    "| nunique()          | Count number of distinct elements in specified axis |\n",
    "| prod()             | Product of Values                |\n",
    "| sem()              | Computes standard error of the mean values for each group |\n",
    "| size()             | Computes the size per each group. Count will not include NaN values whereas size will. |\n",
    "| std()              | Computes standard deviation of the values within each group |\n",
    "| sum()              | Simply adds of values within each group |\n",
    "| var()              | Computes variance, an estimate of variability, for each column per group |"
   ]
  },
  {
   "cell_type": "markdown",
   "id": "b560564b",
   "metadata": {},
   "source": [
    "### 3.2 | Generate summary statistics on subgroups"
   ]
  },
  {
   "cell_type": "code",
   "execution_count": 43,
   "id": "75efa54c",
   "metadata": {},
   "outputs": [
    {
     "data": {
      "text/html": [
       "<div>\n",
       "<style scoped>\n",
       "    .dataframe tbody tr th:only-of-type {\n",
       "        vertical-align: middle;\n",
       "    }\n",
       "\n",
       "    .dataframe tbody tr th {\n",
       "        vertical-align: top;\n",
       "    }\n",
       "\n",
       "    .dataframe thead tr th {\n",
       "        text-align: left;\n",
       "    }\n",
       "\n",
       "    .dataframe thead tr:last-of-type th {\n",
       "        text-align: right;\n",
       "    }\n",
       "</style>\n",
       "<table border=\"1\" class=\"dataframe\">\n",
       "  <thead>\n",
       "    <tr>\n",
       "      <th></th>\n",
       "      <th></th>\n",
       "      <th colspan=\"8\" halign=\"left\">Age</th>\n",
       "      <th colspan=\"2\" halign=\"left\">Siblings/Spouses Aboard</th>\n",
       "      <th>...</th>\n",
       "      <th colspan=\"2\" halign=\"left\">Parents/Children Aboard</th>\n",
       "      <th colspan=\"8\" halign=\"left\">Fare</th>\n",
       "    </tr>\n",
       "    <tr>\n",
       "      <th></th>\n",
       "      <th></th>\n",
       "      <th>count</th>\n",
       "      <th>mean</th>\n",
       "      <th>std</th>\n",
       "      <th>min</th>\n",
       "      <th>25%</th>\n",
       "      <th>50%</th>\n",
       "      <th>75%</th>\n",
       "      <th>max</th>\n",
       "      <th>count</th>\n",
       "      <th>mean</th>\n",
       "      <th>...</th>\n",
       "      <th>75%</th>\n",
       "      <th>max</th>\n",
       "      <th>count</th>\n",
       "      <th>mean</th>\n",
       "      <th>std</th>\n",
       "      <th>min</th>\n",
       "      <th>25%</th>\n",
       "      <th>50%</th>\n",
       "      <th>75%</th>\n",
       "      <th>max</th>\n",
       "    </tr>\n",
       "    <tr>\n",
       "      <th>Sex</th>\n",
       "      <th>Pclass</th>\n",
       "      <th></th>\n",
       "      <th></th>\n",
       "      <th></th>\n",
       "      <th></th>\n",
       "      <th></th>\n",
       "      <th></th>\n",
       "      <th></th>\n",
       "      <th></th>\n",
       "      <th></th>\n",
       "      <th></th>\n",
       "      <th></th>\n",
       "      <th></th>\n",
       "      <th></th>\n",
       "      <th></th>\n",
       "      <th></th>\n",
       "      <th></th>\n",
       "      <th></th>\n",
       "      <th></th>\n",
       "      <th></th>\n",
       "      <th></th>\n",
       "      <th></th>\n",
       "    </tr>\n",
       "  </thead>\n",
       "  <tbody>\n",
       "    <tr>\n",
       "      <th rowspan=\"3\" valign=\"top\">female</th>\n",
       "      <th>1</th>\n",
       "      <td>94.0</td>\n",
       "      <td>35.255319</td>\n",
       "      <td>13.257529</td>\n",
       "      <td>2.00</td>\n",
       "      <td>24.00</td>\n",
       "      <td>35.0</td>\n",
       "      <td>44.75</td>\n",
       "      <td>63.0</td>\n",
       "      <td>94.0</td>\n",
       "      <td>0.553191</td>\n",
       "      <td>...</td>\n",
       "      <td>1.0</td>\n",
       "      <td>2.0</td>\n",
       "      <td>94.0</td>\n",
       "      <td>106.125798</td>\n",
       "      <td>74.259988</td>\n",
       "      <td>25.9292</td>\n",
       "      <td>57.24480</td>\n",
       "      <td>82.66455</td>\n",
       "      <td>134.500000</td>\n",
       "      <td>512.3292</td>\n",
       "    </tr>\n",
       "    <tr>\n",
       "      <th>2</th>\n",
       "      <td>76.0</td>\n",
       "      <td>28.980263</td>\n",
       "      <td>12.855723</td>\n",
       "      <td>2.00</td>\n",
       "      <td>22.75</td>\n",
       "      <td>28.5</td>\n",
       "      <td>36.00</td>\n",
       "      <td>57.0</td>\n",
       "      <td>76.0</td>\n",
       "      <td>0.486842</td>\n",
       "      <td>...</td>\n",
       "      <td>1.0</td>\n",
       "      <td>3.0</td>\n",
       "      <td>76.0</td>\n",
       "      <td>21.970121</td>\n",
       "      <td>10.891796</td>\n",
       "      <td>10.5000</td>\n",
       "      <td>13.00000</td>\n",
       "      <td>22.00000</td>\n",
       "      <td>26.062500</td>\n",
       "      <td>65.0000</td>\n",
       "    </tr>\n",
       "    <tr>\n",
       "      <th>3</th>\n",
       "      <td>144.0</td>\n",
       "      <td>22.135417</td>\n",
       "      <td>12.181031</td>\n",
       "      <td>0.75</td>\n",
       "      <td>15.00</td>\n",
       "      <td>22.0</td>\n",
       "      <td>29.00</td>\n",
       "      <td>63.0</td>\n",
       "      <td>144.0</td>\n",
       "      <td>0.895833</td>\n",
       "      <td>...</td>\n",
       "      <td>1.0</td>\n",
       "      <td>6.0</td>\n",
       "      <td>144.0</td>\n",
       "      <td>16.118810</td>\n",
       "      <td>11.690314</td>\n",
       "      <td>6.7500</td>\n",
       "      <td>7.85420</td>\n",
       "      <td>12.47500</td>\n",
       "      <td>20.221875</td>\n",
       "      <td>69.5500</td>\n",
       "    </tr>\n",
       "    <tr>\n",
       "      <th rowspan=\"3\" valign=\"top\">male</th>\n",
       "      <th>1</th>\n",
       "      <td>122.0</td>\n",
       "      <td>41.511639</td>\n",
       "      <td>14.324665</td>\n",
       "      <td>0.92</td>\n",
       "      <td>31.00</td>\n",
       "      <td>41.5</td>\n",
       "      <td>50.00</td>\n",
       "      <td>80.0</td>\n",
       "      <td>122.0</td>\n",
       "      <td>0.311475</td>\n",
       "      <td>...</td>\n",
       "      <td>0.0</td>\n",
       "      <td>4.0</td>\n",
       "      <td>122.0</td>\n",
       "      <td>67.226127</td>\n",
       "      <td>77.548021</td>\n",
       "      <td>0.0000</td>\n",
       "      <td>27.72810</td>\n",
       "      <td>41.26250</td>\n",
       "      <td>78.459375</td>\n",
       "      <td>512.3292</td>\n",
       "    </tr>\n",
       "    <tr>\n",
       "      <th>2</th>\n",
       "      <td>108.0</td>\n",
       "      <td>30.493796</td>\n",
       "      <td>14.382035</td>\n",
       "      <td>0.67</td>\n",
       "      <td>23.00</td>\n",
       "      <td>30.0</td>\n",
       "      <td>37.00</td>\n",
       "      <td>70.0</td>\n",
       "      <td>108.0</td>\n",
       "      <td>0.342593</td>\n",
       "      <td>...</td>\n",
       "      <td>0.0</td>\n",
       "      <td>2.0</td>\n",
       "      <td>108.0</td>\n",
       "      <td>19.741782</td>\n",
       "      <td>14.922235</td>\n",
       "      <td>0.0000</td>\n",
       "      <td>12.33125</td>\n",
       "      <td>13.00000</td>\n",
       "      <td>26.000000</td>\n",
       "      <td>73.5000</td>\n",
       "    </tr>\n",
       "    <tr>\n",
       "      <th>3</th>\n",
       "      <td>343.0</td>\n",
       "      <td>26.470612</td>\n",
       "      <td>11.843691</td>\n",
       "      <td>0.42</td>\n",
       "      <td>20.00</td>\n",
       "      <td>25.0</td>\n",
       "      <td>32.00</td>\n",
       "      <td>74.0</td>\n",
       "      <td>343.0</td>\n",
       "      <td>0.504373</td>\n",
       "      <td>...</td>\n",
       "      <td>0.0</td>\n",
       "      <td>5.0</td>\n",
       "      <td>343.0</td>\n",
       "      <td>12.695466</td>\n",
       "      <td>11.740102</td>\n",
       "      <td>0.0000</td>\n",
       "      <td>7.75000</td>\n",
       "      <td>7.92500</td>\n",
       "      <td>10.008300</td>\n",
       "      <td>69.5500</td>\n",
       "    </tr>\n",
       "  </tbody>\n",
       "</table>\n",
       "<p>6 rows × 32 columns</p>\n",
       "</div>"
      ],
      "text/plain": [
       "                 Age                                                        \\\n",
       "               count       mean        std   min    25%   50%    75%   max   \n",
       "Sex    Pclass                                                                \n",
       "female 1        94.0  35.255319  13.257529  2.00  24.00  35.0  44.75  63.0   \n",
       "       2        76.0  28.980263  12.855723  2.00  22.75  28.5  36.00  57.0   \n",
       "       3       144.0  22.135417  12.181031  0.75  15.00  22.0  29.00  63.0   \n",
       "male   1       122.0  41.511639  14.324665  0.92  31.00  41.5  50.00  80.0   \n",
       "       2       108.0  30.493796  14.382035  0.67  23.00  30.0  37.00  70.0   \n",
       "       3       343.0  26.470612  11.843691  0.42  20.00  25.0  32.00  74.0   \n",
       "\n",
       "              Siblings/Spouses Aboard            ... Parents/Children Aboard  \\\n",
       "                                count      mean  ...                     75%   \n",
       "Sex    Pclass                                    ...                           \n",
       "female 1                         94.0  0.553191  ...                     1.0   \n",
       "       2                         76.0  0.486842  ...                     1.0   \n",
       "       3                        144.0  0.895833  ...                     1.0   \n",
       "male   1                        122.0  0.311475  ...                     0.0   \n",
       "       2                        108.0  0.342593  ...                     0.0   \n",
       "       3                        343.0  0.504373  ...                     0.0   \n",
       "\n",
       "                     Fare                                                      \\\n",
       "               max  count        mean        std      min       25%       50%   \n",
       "Sex    Pclass                                                                   \n",
       "female 1       2.0   94.0  106.125798  74.259988  25.9292  57.24480  82.66455   \n",
       "       2       3.0   76.0   21.970121  10.891796  10.5000  13.00000  22.00000   \n",
       "       3       6.0  144.0   16.118810  11.690314   6.7500   7.85420  12.47500   \n",
       "male   1       4.0  122.0   67.226127  77.548021   0.0000  27.72810  41.26250   \n",
       "       2       2.0  108.0   19.741782  14.922235   0.0000  12.33125  13.00000   \n",
       "       3       5.0  343.0   12.695466  11.740102   0.0000   7.75000   7.92500   \n",
       "\n",
       "                                     \n",
       "                      75%       max  \n",
       "Sex    Pclass                        \n",
       "female 1       134.500000  512.3292  \n",
       "       2        26.062500   65.0000  \n",
       "       3        20.221875   69.5500  \n",
       "male   1        78.459375  512.3292  \n",
       "       2        26.000000   73.5000  \n",
       "       3        10.008300   69.5500  \n",
       "\n",
       "[6 rows x 32 columns]"
      ]
     },
     "execution_count": 43,
     "metadata": {},
     "output_type": "execute_result"
    }
   ],
   "source": [
    "df_a.groupby(['Sex','Pclass']).describe()"
   ]
  },
  {
   "cell_type": "markdown",
   "id": "3b9e2f1d",
   "metadata": {},
   "source": [
    "### 3.3 | Sort the data and find the top(n) and bottom(n)"
   ]
  },
  {
   "cell_type": "code",
   "execution_count": 44,
   "id": "db5a4f13",
   "metadata": {},
   "outputs": [],
   "source": [
    "sorted_fares = df_a.sort_values(by='Fare', ascending=False)"
   ]
  },
  {
   "cell_type": "code",
   "execution_count": 45,
   "id": "bbbf3219",
   "metadata": {},
   "outputs": [
    {
     "data": {
      "text/html": [
       "<div>\n",
       "<style scoped>\n",
       "    .dataframe tbody tr th:only-of-type {\n",
       "        vertical-align: middle;\n",
       "    }\n",
       "\n",
       "    .dataframe tbody tr th {\n",
       "        vertical-align: top;\n",
       "    }\n",
       "\n",
       "    .dataframe thead th {\n",
       "        text-align: right;\n",
       "    }\n",
       "</style>\n",
       "<table border=\"1\" class=\"dataframe\">\n",
       "  <thead>\n",
       "    <tr style=\"text-align: right;\">\n",
       "      <th></th>\n",
       "      <th>Survived</th>\n",
       "      <th>Pclass</th>\n",
       "      <th>Name</th>\n",
       "      <th>Sex</th>\n",
       "      <th>Age</th>\n",
       "      <th>Siblings/Spouses Aboard</th>\n",
       "      <th>Parents/Children Aboard</th>\n",
       "      <th>Fare</th>\n",
       "    </tr>\n",
       "  </thead>\n",
       "  <tbody>\n",
       "    <tr>\n",
       "      <th>676</th>\n",
       "      <td>True</td>\n",
       "      <td>1</td>\n",
       "      <td>Mr. Thomas Drake Martinez Cardeza</td>\n",
       "      <td>male</td>\n",
       "      <td>36.0</td>\n",
       "      <td>0</td>\n",
       "      <td>1</td>\n",
       "      <td>512.3292</td>\n",
       "    </tr>\n",
       "    <tr>\n",
       "      <th>257</th>\n",
       "      <td>True</td>\n",
       "      <td>1</td>\n",
       "      <td>Miss. Anna Ward</td>\n",
       "      <td>female</td>\n",
       "      <td>35.0</td>\n",
       "      <td>0</td>\n",
       "      <td>0</td>\n",
       "      <td>512.3292</td>\n",
       "    </tr>\n",
       "    <tr>\n",
       "      <th>733</th>\n",
       "      <td>True</td>\n",
       "      <td>1</td>\n",
       "      <td>Mr. Gustave J Lesurer</td>\n",
       "      <td>male</td>\n",
       "      <td>35.0</td>\n",
       "      <td>0</td>\n",
       "      <td>0</td>\n",
       "      <td>512.3292</td>\n",
       "    </tr>\n",
       "    <tr>\n",
       "      <th>87</th>\n",
       "      <td>True</td>\n",
       "      <td>1</td>\n",
       "      <td>Miss. Mabel Helen Fortune</td>\n",
       "      <td>female</td>\n",
       "      <td>23.0</td>\n",
       "      <td>3</td>\n",
       "      <td>2</td>\n",
       "      <td>263.0000</td>\n",
       "    </tr>\n",
       "    <tr>\n",
       "      <th>435</th>\n",
       "      <td>False</td>\n",
       "      <td>1</td>\n",
       "      <td>Mr. Mark Fortune</td>\n",
       "      <td>male</td>\n",
       "      <td>64.0</td>\n",
       "      <td>1</td>\n",
       "      <td>4</td>\n",
       "      <td>263.0000</td>\n",
       "    </tr>\n",
       "    <tr>\n",
       "      <th>339</th>\n",
       "      <td>True</td>\n",
       "      <td>1</td>\n",
       "      <td>Miss. Alice Elizabeth Fortune</td>\n",
       "      <td>female</td>\n",
       "      <td>24.0</td>\n",
       "      <td>3</td>\n",
       "      <td>2</td>\n",
       "      <td>263.0000</td>\n",
       "    </tr>\n",
       "    <tr>\n",
       "      <th>27</th>\n",
       "      <td>False</td>\n",
       "      <td>1</td>\n",
       "      <td>Mr. Charles Alexander Fortune</td>\n",
       "      <td>male</td>\n",
       "      <td>19.0</td>\n",
       "      <td>3</td>\n",
       "      <td>2</td>\n",
       "      <td>263.0000</td>\n",
       "    </tr>\n",
       "    <tr>\n",
       "      <th>738</th>\n",
       "      <td>True</td>\n",
       "      <td>1</td>\n",
       "      <td>Miss. Susan Parker Ryerson</td>\n",
       "      <td>female</td>\n",
       "      <td>21.0</td>\n",
       "      <td>2</td>\n",
       "      <td>2</td>\n",
       "      <td>262.3750</td>\n",
       "    </tr>\n",
       "    <tr>\n",
       "      <th>309</th>\n",
       "      <td>True</td>\n",
       "      <td>1</td>\n",
       "      <td>Miss. Emily Borie Ryerson</td>\n",
       "      <td>female</td>\n",
       "      <td>18.0</td>\n",
       "      <td>2</td>\n",
       "      <td>2</td>\n",
       "      <td>262.3750</td>\n",
       "    </tr>\n",
       "    <tr>\n",
       "      <th>117</th>\n",
       "      <td>False</td>\n",
       "      <td>1</td>\n",
       "      <td>Mr. Quigg Edmond Baxter</td>\n",
       "      <td>male</td>\n",
       "      <td>24.0</td>\n",
       "      <td>0</td>\n",
       "      <td>1</td>\n",
       "      <td>247.5208</td>\n",
       "    </tr>\n",
       "  </tbody>\n",
       "</table>\n",
       "</div>"
      ],
      "text/plain": [
       "     Survived Pclass                               Name     Sex   Age  \\\n",
       "676      True      1  Mr. Thomas Drake Martinez Cardeza    male  36.0   \n",
       "257      True      1                    Miss. Anna Ward  female  35.0   \n",
       "733      True      1              Mr. Gustave J Lesurer    male  35.0   \n",
       "87       True      1          Miss. Mabel Helen Fortune  female  23.0   \n",
       "435     False      1                   Mr. Mark Fortune    male  64.0   \n",
       "339      True      1      Miss. Alice Elizabeth Fortune  female  24.0   \n",
       "27      False      1      Mr. Charles Alexander Fortune    male  19.0   \n",
       "738      True      1         Miss. Susan Parker Ryerson  female  21.0   \n",
       "309      True      1          Miss. Emily Borie Ryerson  female  18.0   \n",
       "117     False      1            Mr. Quigg Edmond Baxter    male  24.0   \n",
       "\n",
       "     Siblings/Spouses Aboard  Parents/Children Aboard      Fare  \n",
       "676                        0                        1  512.3292  \n",
       "257                        0                        0  512.3292  \n",
       "733                        0                        0  512.3292  \n",
       "87                         3                        2  263.0000  \n",
       "435                        1                        4  263.0000  \n",
       "339                        3                        2  263.0000  \n",
       "27                         3                        2  263.0000  \n",
       "738                        2                        2  262.3750  \n",
       "309                        2                        2  262.3750  \n",
       "117                        0                        1  247.5208  "
      ]
     },
     "execution_count": 45,
     "metadata": {},
     "output_type": "execute_result"
    }
   ],
   "source": [
    "sorted_fares.head(10)"
   ]
  },
  {
   "cell_type": "code",
   "execution_count": 46,
   "id": "4fd5028d",
   "metadata": {},
   "outputs": [],
   "source": [
    "sorted_ages = df_a.sort_values(by='Age',ascending=True)"
   ]
  },
  {
   "cell_type": "code",
   "execution_count": 47,
   "id": "cbb60f60",
   "metadata": {},
   "outputs": [
    {
     "data": {
      "text/html": [
       "<div>\n",
       "<style scoped>\n",
       "    .dataframe tbody tr th:only-of-type {\n",
       "        vertical-align: middle;\n",
       "    }\n",
       "\n",
       "    .dataframe tbody tr th {\n",
       "        vertical-align: top;\n",
       "    }\n",
       "\n",
       "    .dataframe thead th {\n",
       "        text-align: right;\n",
       "    }\n",
       "</style>\n",
       "<table border=\"1\" class=\"dataframe\">\n",
       "  <thead>\n",
       "    <tr style=\"text-align: right;\">\n",
       "      <th></th>\n",
       "      <th>Survived</th>\n",
       "      <th>Pclass</th>\n",
       "      <th>Name</th>\n",
       "      <th>Sex</th>\n",
       "      <th>Age</th>\n",
       "      <th>Siblings/Spouses Aboard</th>\n",
       "      <th>Parents/Children Aboard</th>\n",
       "      <th>Fare</th>\n",
       "    </tr>\n",
       "  </thead>\n",
       "  <tbody>\n",
       "    <tr>\n",
       "      <th>799</th>\n",
       "      <td>True</td>\n",
       "      <td>3</td>\n",
       "      <td>Master. Assad Alexander Thomas</td>\n",
       "      <td>male</td>\n",
       "      <td>0.42</td>\n",
       "      <td>0</td>\n",
       "      <td>1</td>\n",
       "      <td>8.5167</td>\n",
       "    </tr>\n",
       "    <tr>\n",
       "      <th>751</th>\n",
       "      <td>True</td>\n",
       "      <td>2</td>\n",
       "      <td>Master. Viljo Hamalainen</td>\n",
       "      <td>male</td>\n",
       "      <td>0.67</td>\n",
       "      <td>1</td>\n",
       "      <td>1</td>\n",
       "      <td>14.5000</td>\n",
       "    </tr>\n",
       "    <tr>\n",
       "      <th>641</th>\n",
       "      <td>True</td>\n",
       "      <td>3</td>\n",
       "      <td>Miss. Eugenie Baclini</td>\n",
       "      <td>female</td>\n",
       "      <td>0.75</td>\n",
       "      <td>2</td>\n",
       "      <td>1</td>\n",
       "      <td>19.2583</td>\n",
       "    </tr>\n",
       "    <tr>\n",
       "      <th>466</th>\n",
       "      <td>True</td>\n",
       "      <td>3</td>\n",
       "      <td>Miss. Helene Barbara Baclini</td>\n",
       "      <td>female</td>\n",
       "      <td>0.75</td>\n",
       "      <td>2</td>\n",
       "      <td>1</td>\n",
       "      <td>19.2583</td>\n",
       "    </tr>\n",
       "    <tr>\n",
       "      <th>827</th>\n",
       "      <td>True</td>\n",
       "      <td>2</td>\n",
       "      <td>Master. George Sibley Richards</td>\n",
       "      <td>male</td>\n",
       "      <td>0.83</td>\n",
       "      <td>1</td>\n",
       "      <td>1</td>\n",
       "      <td>18.7500</td>\n",
       "    </tr>\n",
       "    <tr>\n",
       "      <th>77</th>\n",
       "      <td>True</td>\n",
       "      <td>2</td>\n",
       "      <td>Master. Alden Gates Caldwell</td>\n",
       "      <td>male</td>\n",
       "      <td>0.83</td>\n",
       "      <td>0</td>\n",
       "      <td>2</td>\n",
       "      <td>29.0000</td>\n",
       "    </tr>\n",
       "    <tr>\n",
       "      <th>303</th>\n",
       "      <td>True</td>\n",
       "      <td>1</td>\n",
       "      <td>Master. Hudson Trevor Allison</td>\n",
       "      <td>male</td>\n",
       "      <td>0.92</td>\n",
       "      <td>1</td>\n",
       "      <td>2</td>\n",
       "      <td>151.5500</td>\n",
       "    </tr>\n",
       "    <tr>\n",
       "      <th>823</th>\n",
       "      <td>True</td>\n",
       "      <td>2</td>\n",
       "      <td>Master. Andre Mallet</td>\n",
       "      <td>male</td>\n",
       "      <td>1.00</td>\n",
       "      <td>0</td>\n",
       "      <td>2</td>\n",
       "      <td>37.0042</td>\n",
       "    </tr>\n",
       "    <tr>\n",
       "      <th>171</th>\n",
       "      <td>True</td>\n",
       "      <td>3</td>\n",
       "      <td>Miss. Eleanor Ileen Johnson</td>\n",
       "      <td>female</td>\n",
       "      <td>1.00</td>\n",
       "      <td>1</td>\n",
       "      <td>1</td>\n",
       "      <td>11.1333</td>\n",
       "    </tr>\n",
       "    <tr>\n",
       "      <th>379</th>\n",
       "      <td>True</td>\n",
       "      <td>3</td>\n",
       "      <td>Miss. Maria Nakid</td>\n",
       "      <td>female</td>\n",
       "      <td>1.00</td>\n",
       "      <td>0</td>\n",
       "      <td>2</td>\n",
       "      <td>15.7417</td>\n",
       "    </tr>\n",
       "  </tbody>\n",
       "</table>\n",
       "</div>"
      ],
      "text/plain": [
       "     Survived Pclass                            Name     Sex   Age  \\\n",
       "799      True      3  Master. Assad Alexander Thomas    male  0.42   \n",
       "751      True      2        Master. Viljo Hamalainen    male  0.67   \n",
       "641      True      3           Miss. Eugenie Baclini  female  0.75   \n",
       "466      True      3    Miss. Helene Barbara Baclini  female  0.75   \n",
       "827      True      2  Master. George Sibley Richards    male  0.83   \n",
       "77       True      2    Master. Alden Gates Caldwell    male  0.83   \n",
       "303      True      1   Master. Hudson Trevor Allison    male  0.92   \n",
       "823      True      2            Master. Andre Mallet    male  1.00   \n",
       "171      True      3     Miss. Eleanor Ileen Johnson  female  1.00   \n",
       "379      True      3               Miss. Maria Nakid  female  1.00   \n",
       "\n",
       "     Siblings/Spouses Aboard  Parents/Children Aboard      Fare  \n",
       "799                        0                        1    8.5167  \n",
       "751                        1                        1   14.5000  \n",
       "641                        2                        1   19.2583  \n",
       "466                        2                        1   19.2583  \n",
       "827                        1                        1   18.7500  \n",
       "77                         0                        2   29.0000  \n",
       "303                        1                        2  151.5500  \n",
       "823                        0                        2   37.0042  \n",
       "171                        1                        1   11.1333  \n",
       "379                        0                        2   15.7417  "
      ]
     },
     "execution_count": 47,
     "metadata": {},
     "output_type": "execute_result"
    }
   ],
   "source": [
    "sorted_ages.head(10)"
   ]
  },
  {
   "cell_type": "markdown",
   "id": "491f4b4d",
   "metadata": {},
   "source": [
    "### 3.4 | Sort the data by multiple columns"
   ]
  },
  {
   "cell_type": "code",
   "execution_count": 61,
   "id": "8a2229ea",
   "metadata": {},
   "outputs": [],
   "source": [
    "multi_sort = df_a.sort_values(by=['Age','Fare','Pclass'], ascending=[False,False,True])"
   ]
  },
  {
   "cell_type": "code",
   "execution_count": 63,
   "id": "7c8c6b34",
   "metadata": {},
   "outputs": [
    {
     "data": {
      "text/html": [
       "<div>\n",
       "<style scoped>\n",
       "    .dataframe tbody tr th:only-of-type {\n",
       "        vertical-align: middle;\n",
       "    }\n",
       "\n",
       "    .dataframe tbody tr th {\n",
       "        vertical-align: top;\n",
       "    }\n",
       "\n",
       "    .dataframe thead th {\n",
       "        text-align: right;\n",
       "    }\n",
       "</style>\n",
       "<table border=\"1\" class=\"dataframe\">\n",
       "  <thead>\n",
       "    <tr style=\"text-align: right;\">\n",
       "      <th></th>\n",
       "      <th>Survived</th>\n",
       "      <th>Pclass</th>\n",
       "      <th>Name</th>\n",
       "      <th>Sex</th>\n",
       "      <th>Age</th>\n",
       "      <th>Siblings/Spouses Aboard</th>\n",
       "      <th>Parents/Children Aboard</th>\n",
       "      <th>Fare</th>\n",
       "    </tr>\n",
       "  </thead>\n",
       "  <tbody>\n",
       "    <tr>\n",
       "      <th>627</th>\n",
       "      <td>True</td>\n",
       "      <td>1</td>\n",
       "      <td>Mr. Algernon Henry Wilson Barkworth</td>\n",
       "      <td>male</td>\n",
       "      <td>80.0</td>\n",
       "      <td>0</td>\n",
       "      <td>0</td>\n",
       "      <td>30.0000</td>\n",
       "    </tr>\n",
       "    <tr>\n",
       "      <th>847</th>\n",
       "      <td>False</td>\n",
       "      <td>3</td>\n",
       "      <td>Mr. Johan Svensson</td>\n",
       "      <td>male</td>\n",
       "      <td>74.0</td>\n",
       "      <td>0</td>\n",
       "      <td>0</td>\n",
       "      <td>7.7750</td>\n",
       "    </tr>\n",
       "    <tr>\n",
       "      <th>490</th>\n",
       "      <td>False</td>\n",
       "      <td>1</td>\n",
       "      <td>Mr. Ramon Artagaveytia</td>\n",
       "      <td>male</td>\n",
       "      <td>71.0</td>\n",
       "      <td>0</td>\n",
       "      <td>0</td>\n",
       "      <td>49.5042</td>\n",
       "    </tr>\n",
       "    <tr>\n",
       "      <th>95</th>\n",
       "      <td>False</td>\n",
       "      <td>1</td>\n",
       "      <td>Mr. George B Goldschmidt</td>\n",
       "      <td>male</td>\n",
       "      <td>71.0</td>\n",
       "      <td>0</td>\n",
       "      <td>0</td>\n",
       "      <td>34.6542</td>\n",
       "    </tr>\n",
       "    <tr>\n",
       "      <th>115</th>\n",
       "      <td>False</td>\n",
       "      <td>3</td>\n",
       "      <td>Mr. Patrick Connors</td>\n",
       "      <td>male</td>\n",
       "      <td>70.5</td>\n",
       "      <td>0</td>\n",
       "      <td>0</td>\n",
       "      <td>7.7500</td>\n",
       "    </tr>\n",
       "    <tr>\n",
       "      <th>741</th>\n",
       "      <td>False</td>\n",
       "      <td>1</td>\n",
       "      <td>Capt. Edward Gifford Crosby</td>\n",
       "      <td>male</td>\n",
       "      <td>70.0</td>\n",
       "      <td>1</td>\n",
       "      <td>1</td>\n",
       "      <td>71.0000</td>\n",
       "    </tr>\n",
       "    <tr>\n",
       "      <th>669</th>\n",
       "      <td>False</td>\n",
       "      <td>2</td>\n",
       "      <td>Mr. Henry Michael Mitchell</td>\n",
       "      <td>male</td>\n",
       "      <td>70.0</td>\n",
       "      <td>0</td>\n",
       "      <td>0</td>\n",
       "      <td>10.5000</td>\n",
       "    </tr>\n",
       "    <tr>\n",
       "      <th>535</th>\n",
       "      <td>False</td>\n",
       "      <td>3</td>\n",
       "      <td>Mr. Samuel Beard Risien</td>\n",
       "      <td>male</td>\n",
       "      <td>69.0</td>\n",
       "      <td>0</td>\n",
       "      <td>0</td>\n",
       "      <td>14.5000</td>\n",
       "    </tr>\n",
       "    <tr>\n",
       "      <th>33</th>\n",
       "      <td>False</td>\n",
       "      <td>2</td>\n",
       "      <td>Mr. Edward H Wheadon</td>\n",
       "      <td>male</td>\n",
       "      <td>66.0</td>\n",
       "      <td>0</td>\n",
       "      <td>0</td>\n",
       "      <td>10.5000</td>\n",
       "    </tr>\n",
       "    <tr>\n",
       "      <th>508</th>\n",
       "      <td>False</td>\n",
       "      <td>3</td>\n",
       "      <td>Mr. James Webber</td>\n",
       "      <td>male</td>\n",
       "      <td>66.0</td>\n",
       "      <td>0</td>\n",
       "      <td>0</td>\n",
       "      <td>8.0500</td>\n",
       "    </tr>\n",
       "  </tbody>\n",
       "</table>\n",
       "</div>"
      ],
      "text/plain": [
       "     Survived Pclass                                 Name   Sex   Age  \\\n",
       "627      True      1  Mr. Algernon Henry Wilson Barkworth  male  80.0   \n",
       "847     False      3                   Mr. Johan Svensson  male  74.0   \n",
       "490     False      1               Mr. Ramon Artagaveytia  male  71.0   \n",
       "95      False      1             Mr. George B Goldschmidt  male  71.0   \n",
       "115     False      3                  Mr. Patrick Connors  male  70.5   \n",
       "741     False      1          Capt. Edward Gifford Crosby  male  70.0   \n",
       "669     False      2           Mr. Henry Michael Mitchell  male  70.0   \n",
       "535     False      3              Mr. Samuel Beard Risien  male  69.0   \n",
       "33      False      2                 Mr. Edward H Wheadon  male  66.0   \n",
       "508     False      3                     Mr. James Webber  male  66.0   \n",
       "\n",
       "     Siblings/Spouses Aboard  Parents/Children Aboard     Fare  \n",
       "627                        0                        0  30.0000  \n",
       "847                        0                        0   7.7750  \n",
       "490                        0                        0  49.5042  \n",
       "95                         0                        0  34.6542  \n",
       "115                        0                        0   7.7500  \n",
       "741                        1                        1  71.0000  \n",
       "669                        0                        0  10.5000  \n",
       "535                        0                        0  14.5000  \n",
       "33                         0                        0  10.5000  \n",
       "508                        0                        0   8.0500  "
      ]
     },
     "execution_count": 63,
     "metadata": {},
     "output_type": "execute_result"
    }
   ],
   "source": [
    "multi_sort.head(10)"
   ]
  },
  {
   "cell_type": "markdown",
   "id": "5c3a42f0",
   "metadata": {},
   "source": [
    "### 3.5a | Groupby a single categorical variable and apply a single aggregate function to all numerical variables"
   ]
  },
  {
   "cell_type": "code",
   "execution_count": 117,
   "id": "d8bd9c20",
   "metadata": {},
   "outputs": [
    {
     "data": {
      "text/html": [
       "<div>\n",
       "<style scoped>\n",
       "    .dataframe tbody tr th:only-of-type {\n",
       "        vertical-align: middle;\n",
       "    }\n",
       "\n",
       "    .dataframe tbody tr th {\n",
       "        vertical-align: top;\n",
       "    }\n",
       "\n",
       "    .dataframe thead th {\n",
       "        text-align: right;\n",
       "    }\n",
       "</style>\n",
       "<table border=\"1\" class=\"dataframe\">\n",
       "  <thead>\n",
       "    <tr style=\"text-align: right;\">\n",
       "      <th></th>\n",
       "      <th>Survived</th>\n",
       "      <th>Age</th>\n",
       "      <th>Siblings/Spouses Aboard</th>\n",
       "      <th>Parents/Children Aboard</th>\n",
       "      <th>Fare</th>\n",
       "    </tr>\n",
       "    <tr>\n",
       "      <th>Pclass</th>\n",
       "      <th></th>\n",
       "      <th></th>\n",
       "      <th></th>\n",
       "      <th></th>\n",
       "      <th></th>\n",
       "    </tr>\n",
       "  </thead>\n",
       "  <tbody>\n",
       "    <tr>\n",
       "      <th>1</th>\n",
       "      <td>0.629630</td>\n",
       "      <td>38.788981</td>\n",
       "      <td>0.416667</td>\n",
       "      <td>0.356481</td>\n",
       "      <td>84.154687</td>\n",
       "    </tr>\n",
       "    <tr>\n",
       "      <th>2</th>\n",
       "      <td>0.472826</td>\n",
       "      <td>29.868641</td>\n",
       "      <td>0.402174</td>\n",
       "      <td>0.380435</td>\n",
       "      <td>20.662183</td>\n",
       "    </tr>\n",
       "    <tr>\n",
       "      <th>3</th>\n",
       "      <td>0.244353</td>\n",
       "      <td>25.188747</td>\n",
       "      <td>0.620123</td>\n",
       "      <td>0.396304</td>\n",
       "      <td>13.707707</td>\n",
       "    </tr>\n",
       "  </tbody>\n",
       "</table>\n",
       "</div>"
      ],
      "text/plain": [
       "        Survived        Age  Siblings/Spouses Aboard  Parents/Children Aboard  \\\n",
       "Pclass                                                                          \n",
       "1       0.629630  38.788981                 0.416667                 0.356481   \n",
       "2       0.472826  29.868641                 0.402174                 0.380435   \n",
       "3       0.244353  25.188747                 0.620123                 0.396304   \n",
       "\n",
       "             Fare  \n",
       "Pclass             \n",
       "1       84.154687  \n",
       "2       20.662183  \n",
       "3       13.707707  "
      ]
     },
     "execution_count": 117,
     "metadata": {},
     "output_type": "execute_result"
    }
   ],
   "source": [
    "df_a.groupby('Pclass').mean()"
   ]
  },
  {
   "cell_type": "markdown",
   "id": "f334240a",
   "metadata": {},
   "source": [
    "### 3.5b | Groupby multiple categorical variables and apply a single aggregate function to all numerical variables"
   ]
  },
  {
   "cell_type": "code",
   "execution_count": 118,
   "id": "ecf2cd13",
   "metadata": {},
   "outputs": [
    {
     "data": {
      "text/html": [
       "<div>\n",
       "<style scoped>\n",
       "    .dataframe tbody tr th:only-of-type {\n",
       "        vertical-align: middle;\n",
       "    }\n",
       "\n",
       "    .dataframe tbody tr th {\n",
       "        vertical-align: top;\n",
       "    }\n",
       "\n",
       "    .dataframe thead th {\n",
       "        text-align: right;\n",
       "    }\n",
       "</style>\n",
       "<table border=\"1\" class=\"dataframe\">\n",
       "  <thead>\n",
       "    <tr style=\"text-align: right;\">\n",
       "      <th></th>\n",
       "      <th></th>\n",
       "      <th>Survived</th>\n",
       "      <th>Age</th>\n",
       "      <th>Siblings/Spouses Aboard</th>\n",
       "      <th>Parents/Children Aboard</th>\n",
       "      <th>Fare</th>\n",
       "    </tr>\n",
       "    <tr>\n",
       "      <th>Pclass</th>\n",
       "      <th>Sex</th>\n",
       "      <th></th>\n",
       "      <th></th>\n",
       "      <th></th>\n",
       "      <th></th>\n",
       "      <th></th>\n",
       "    </tr>\n",
       "  </thead>\n",
       "  <tbody>\n",
       "    <tr>\n",
       "      <th rowspan=\"2\" valign=\"top\">1</th>\n",
       "      <th>female</th>\n",
       "      <td>0.968085</td>\n",
       "      <td>35.255319</td>\n",
       "      <td>0.553191</td>\n",
       "      <td>0.457447</td>\n",
       "      <td>106.125798</td>\n",
       "    </tr>\n",
       "    <tr>\n",
       "      <th>male</th>\n",
       "      <td>0.368852</td>\n",
       "      <td>41.511639</td>\n",
       "      <td>0.311475</td>\n",
       "      <td>0.278689</td>\n",
       "      <td>67.226127</td>\n",
       "    </tr>\n",
       "    <tr>\n",
       "      <th rowspan=\"2\" valign=\"top\">2</th>\n",
       "      <th>female</th>\n",
       "      <td>0.921053</td>\n",
       "      <td>28.980263</td>\n",
       "      <td>0.486842</td>\n",
       "      <td>0.605263</td>\n",
       "      <td>21.970121</td>\n",
       "    </tr>\n",
       "    <tr>\n",
       "      <th>male</th>\n",
       "      <td>0.157407</td>\n",
       "      <td>30.493796</td>\n",
       "      <td>0.342593</td>\n",
       "      <td>0.222222</td>\n",
       "      <td>19.741782</td>\n",
       "    </tr>\n",
       "    <tr>\n",
       "      <th rowspan=\"2\" valign=\"top\">3</th>\n",
       "      <th>female</th>\n",
       "      <td>0.500000</td>\n",
       "      <td>22.135417</td>\n",
       "      <td>0.895833</td>\n",
       "      <td>0.798611</td>\n",
       "      <td>16.118810</td>\n",
       "    </tr>\n",
       "    <tr>\n",
       "      <th>male</th>\n",
       "      <td>0.137026</td>\n",
       "      <td>26.470612</td>\n",
       "      <td>0.504373</td>\n",
       "      <td>0.227405</td>\n",
       "      <td>12.695466</td>\n",
       "    </tr>\n",
       "  </tbody>\n",
       "</table>\n",
       "</div>"
      ],
      "text/plain": [
       "               Survived        Age  Siblings/Spouses Aboard  \\\n",
       "Pclass Sex                                                    \n",
       "1      female  0.968085  35.255319                 0.553191   \n",
       "       male    0.368852  41.511639                 0.311475   \n",
       "2      female  0.921053  28.980263                 0.486842   \n",
       "       male    0.157407  30.493796                 0.342593   \n",
       "3      female  0.500000  22.135417                 0.895833   \n",
       "       male    0.137026  26.470612                 0.504373   \n",
       "\n",
       "               Parents/Children Aboard        Fare  \n",
       "Pclass Sex                                          \n",
       "1      female                 0.457447  106.125798  \n",
       "       male                   0.278689   67.226127  \n",
       "2      female                 0.605263   21.970121  \n",
       "       male                   0.222222   19.741782  \n",
       "3      female                 0.798611   16.118810  \n",
       "       male                   0.227405   12.695466  "
      ]
     },
     "execution_count": 118,
     "metadata": {},
     "output_type": "execute_result"
    }
   ],
   "source": [
    "df_a.groupby(['Pclass','Sex']).mean()"
   ]
  },
  {
   "cell_type": "markdown",
   "id": "0fcf3c84",
   "metadata": {},
   "source": [
    "### 3.5c | Groupby a single categorical variable and apply multiple aggregate functions (with renaming)"
   ]
  },
  {
   "cell_type": "code",
   "execution_count": 121,
   "id": "9c6c6266",
   "metadata": {},
   "outputs": [
    {
     "data": {
      "text/html": [
       "<div>\n",
       "<style scoped>\n",
       "    .dataframe tbody tr th:only-of-type {\n",
       "        vertical-align: middle;\n",
       "    }\n",
       "\n",
       "    .dataframe tbody tr th {\n",
       "        vertical-align: top;\n",
       "    }\n",
       "\n",
       "    .dataframe thead th {\n",
       "        text-align: right;\n",
       "    }\n",
       "</style>\n",
       "<table border=\"1\" class=\"dataframe\">\n",
       "  <thead>\n",
       "    <tr style=\"text-align: right;\">\n",
       "      <th></th>\n",
       "      <th>min_age</th>\n",
       "      <th>avg_age</th>\n",
       "      <th>max_age</th>\n",
       "    </tr>\n",
       "    <tr>\n",
       "      <th>Pclass</th>\n",
       "      <th></th>\n",
       "      <th></th>\n",
       "      <th></th>\n",
       "    </tr>\n",
       "  </thead>\n",
       "  <tbody>\n",
       "    <tr>\n",
       "      <th>1</th>\n",
       "      <td>0.92</td>\n",
       "      <td>38.788981</td>\n",
       "      <td>80.0</td>\n",
       "    </tr>\n",
       "    <tr>\n",
       "      <th>2</th>\n",
       "      <td>0.67</td>\n",
       "      <td>29.868641</td>\n",
       "      <td>70.0</td>\n",
       "    </tr>\n",
       "    <tr>\n",
       "      <th>3</th>\n",
       "      <td>0.42</td>\n",
       "      <td>25.188747</td>\n",
       "      <td>74.0</td>\n",
       "    </tr>\n",
       "  </tbody>\n",
       "</table>\n",
       "</div>"
      ],
      "text/plain": [
       "        min_age    avg_age  max_age\n",
       "Pclass                             \n",
       "1          0.92  38.788981     80.0\n",
       "2          0.67  29.868641     70.0\n",
       "3          0.42  25.188747     74.0"
      ]
     },
     "execution_count": 121,
     "metadata": {},
     "output_type": "execute_result"
    }
   ],
   "source": [
    "df_a.groupby('Pclass').agg(min_age = ('Age','min'), avg_age = ('Age', 'mean'), max_age = ('Age', 'max') )"
   ]
  },
  {
   "cell_type": "markdown",
   "id": "ca8035a5",
   "metadata": {},
   "source": [
    "### 3.5d | Groupby a multiple categorical variables and apply multiple aggregate functions (with renaming)"
   ]
  },
  {
   "cell_type": "code",
   "execution_count": 120,
   "id": "7037a474",
   "metadata": {},
   "outputs": [
    {
     "data": {
      "text/html": [
       "<div>\n",
       "<style scoped>\n",
       "    .dataframe tbody tr th:only-of-type {\n",
       "        vertical-align: middle;\n",
       "    }\n",
       "\n",
       "    .dataframe tbody tr th {\n",
       "        vertical-align: top;\n",
       "    }\n",
       "\n",
       "    .dataframe thead th {\n",
       "        text-align: right;\n",
       "    }\n",
       "</style>\n",
       "<table border=\"1\" class=\"dataframe\">\n",
       "  <thead>\n",
       "    <tr style=\"text-align: right;\">\n",
       "      <th></th>\n",
       "      <th></th>\n",
       "      <th>min_age</th>\n",
       "      <th>avg_age</th>\n",
       "      <th>max_age</th>\n",
       "    </tr>\n",
       "    <tr>\n",
       "      <th>Pclass</th>\n",
       "      <th>Sex</th>\n",
       "      <th></th>\n",
       "      <th></th>\n",
       "      <th></th>\n",
       "    </tr>\n",
       "  </thead>\n",
       "  <tbody>\n",
       "    <tr>\n",
       "      <th rowspan=\"2\" valign=\"top\">1</th>\n",
       "      <th>female</th>\n",
       "      <td>2.00</td>\n",
       "      <td>35.255319</td>\n",
       "      <td>63.0</td>\n",
       "    </tr>\n",
       "    <tr>\n",
       "      <th>male</th>\n",
       "      <td>0.92</td>\n",
       "      <td>41.511639</td>\n",
       "      <td>80.0</td>\n",
       "    </tr>\n",
       "    <tr>\n",
       "      <th rowspan=\"2\" valign=\"top\">2</th>\n",
       "      <th>female</th>\n",
       "      <td>2.00</td>\n",
       "      <td>28.980263</td>\n",
       "      <td>57.0</td>\n",
       "    </tr>\n",
       "    <tr>\n",
       "      <th>male</th>\n",
       "      <td>0.67</td>\n",
       "      <td>30.493796</td>\n",
       "      <td>70.0</td>\n",
       "    </tr>\n",
       "    <tr>\n",
       "      <th rowspan=\"2\" valign=\"top\">3</th>\n",
       "      <th>female</th>\n",
       "      <td>0.75</td>\n",
       "      <td>22.135417</td>\n",
       "      <td>63.0</td>\n",
       "    </tr>\n",
       "    <tr>\n",
       "      <th>male</th>\n",
       "      <td>0.42</td>\n",
       "      <td>26.470612</td>\n",
       "      <td>74.0</td>\n",
       "    </tr>\n",
       "  </tbody>\n",
       "</table>\n",
       "</div>"
      ],
      "text/plain": [
       "               min_age    avg_age  max_age\n",
       "Pclass Sex                                \n",
       "1      female     2.00  35.255319     63.0\n",
       "       male       0.92  41.511639     80.0\n",
       "2      female     2.00  28.980263     57.0\n",
       "       male       0.67  30.493796     70.0\n",
       "3      female     0.75  22.135417     63.0\n",
       "       male       0.42  26.470612     74.0"
      ]
     },
     "execution_count": 120,
     "metadata": {},
     "output_type": "execute_result"
    }
   ],
   "source": [
    "df_a.groupby(['Pclass','Sex']).agg(min_age = ('Age','min'), avg_age = ('Age', 'mean'), max_age = ('Age', 'max') )"
   ]
  },
  {
   "cell_type": "markdown",
   "id": "fa566f86",
   "metadata": {},
   "source": [
    "### 3.6 | Automatically group data into buckets and count the number that fall into each bucket"
   ]
  },
  {
   "cell_type": "code",
   "execution_count": 58,
   "id": "6fb8db47",
   "metadata": {},
   "outputs": [
    {
     "data": {
      "text/plain": [
       "(20.315, 40.21]    487\n",
       "(0.339, 20.315]    222\n",
       "(40.21, 60.105]    152\n",
       "(60.105, 80.0]      26\n",
       "Name: Age, dtype: int64"
      ]
     },
     "execution_count": 58,
     "metadata": {},
     "output_type": "execute_result"
    }
   ],
   "source": [
    "df_b['Age'].value_counts(bins=4)"
   ]
  },
  {
   "cell_type": "markdown",
   "id": "1b262962",
   "metadata": {},
   "source": [
    "### 3.7 | Find the percent compostition of a group"
   ]
  },
  {
   "cell_type": "code",
   "execution_count": 60,
   "id": "373d3727",
   "metadata": {},
   "outputs": [
    {
     "data": {
      "text/plain": [
       "Manhattan        0.4300\n",
       "Brooklyn         0.3175\n",
       "Queens           0.1640\n",
       "Bronx            0.0575\n",
       "Staten Island    0.0310\n",
       "Name: establishment_record_establishment_borough, dtype: float64"
      ]
     },
     "execution_count": 60,
     "metadata": {},
     "output_type": "execute_result"
    }
   ],
   "source": [
    "df_c2['establishment_record_establishment_borough'].value_counts(normalize=True)"
   ]
  },
  {
   "cell_type": "markdown",
   "id": "526e3ed5",
   "metadata": {},
   "source": [
    "### 3.8 | Plot categorical data using .valuecounts"
   ]
  },
  {
   "cell_type": "code",
   "execution_count": 50,
   "id": "e7399ca9",
   "metadata": {},
   "outputs": [
    {
     "data": {
      "text/plain": [
       "<AxesSubplot:>"
      ]
     },
     "execution_count": 50,
     "metadata": {},
     "output_type": "execute_result"
    },
    {
     "data": {
      "image/png": "[encoded data removed]",
      "text/plain": [
       "<Figure size 432x288 with 1 Axes>"
      ]
     },
     "metadata": {
      "needs_background": "light"
     },
     "output_type": "display_data"
    }
   ],
   "source": [
    "# create a bar graph that shows how many of the businesses are located in each nyc borough\n",
    "\n",
    "df_c2['establishment_record_establishment_borough'].value_counts().plot(kind='bar')"
   ]
  },
  {
   "cell_type": "markdown",
   "id": "bd8e6645",
   "metadata": {},
   "source": [
    "### 3.9 | Plot distribution using a histogram"
   ]
  },
  {
   "cell_type": "code",
   "execution_count": 111,
   "id": "77c54bbe",
   "metadata": {},
   "outputs": [
    {
     "data": {
      "text/plain": [
       "<AxesSubplot:ylabel='Frequency'>"
      ]
     },
     "execution_count": 111,
     "metadata": {},
     "output_type": "execute_result"
    },
    {
     "data": {
      "image/png": "[encoded data removed]",
      "text/plain": [
       "<Figure size 432x288 with 1 Axes>"
      ]
     },
     "metadata": {
      "needs_background": "light"
     },
     "output_type": "display_data"
    }
   ],
   "source": [
    "df_a['Age'].value_counts().plot(kind='hist')"
   ]
  },
  {
   "cell_type": "markdown",
   "id": "b4fbd0a2",
   "metadata": {},
   "source": [
    "### 3.10 | Plot distribution using a boxplot"
   ]
  },
  {
   "cell_type": "code",
   "execution_count": 83,
   "id": "21eaca0a",
   "metadata": {},
   "outputs": [
    {
     "data": {
      "text/plain": [
       "<AxesSubplot:>"
      ]
     },
     "execution_count": 83,
     "metadata": {},
     "output_type": "execute_result"
    },
    {
     "data": {
      "image/png": "[encoded data removed]",
      "text/plain": [
       "<Figure size 504x504 with 1 Axes>"
      ]
     },
     "metadata": {
      "needs_background": "light"
     },
     "output_type": "display_data"
    }
   ],
   "source": [
    "df_a['Age'].plot(kind='box',figsize=(7,7))"
   ]
  },
  {
   "cell_type": "markdown",
   "id": "e2bbcb9e",
   "metadata": {},
   "source": [
    "### 3.11 | compare two variables using a scatter plot"
   ]
  },
  {
   "cell_type": "code",
   "execution_count": 97,
   "id": "f607d6dd",
   "metadata": {},
   "outputs": [
    {
     "data": {
      "text/plain": [
       "<AxesSubplot:xlabel='Age', ylabel='Fare'>"
      ]
     },
     "execution_count": 97,
     "metadata": {},
     "output_type": "execute_result"
    },
    {
     "data": {
      "image/png": "[encoded data removed]",
      "text/plain": [
       "<Figure size 720x360 with 1 Axes>"
      ]
     },
     "metadata": {
      "needs_background": "light"
     },
     "output_type": "display_data"
    }
   ],
   "source": [
    "df_a.plot(kind='scatter',x='Age', y='Fare',figsize=(10,5))"
   ]
  },
  {
   "cell_type": "markdown",
   "id": "279629f4",
   "metadata": {},
   "source": [
    "### 3.12 | Plot data on a line graph"
   ]
  },
  {
   "cell_type": "code",
   "execution_count": 109,
   "id": "bf1c286e",
   "metadata": {},
   "outputs": [
    {
     "data": {
      "text/plain": [
       "<AxesSubplot:xlabel='Age'>"
      ]
     },
     "execution_count": 109,
     "metadata": {},
     "output_type": "execute_result"
    },
    {
     "data": {
      "image/png": "[encoded data removed]",
      "text/plain": [
       "<Figure size 720x360 with 1 Axes>"
      ]
     },
     "metadata": {
      "needs_background": "light"
     },
     "output_type": "display_data"
    }
   ],
   "source": [
    "df_a.plot(kind='line',x='Age', y='Fare',figsize=(10,5))"
   ]
  },
  {
   "cell_type": "markdown",
   "id": "303e2473",
   "metadata": {},
   "source": [
    "### 3.13 | Plot numerical data using an aggregate funtcion"
   ]
  },
  {
   "cell_type": "code",
   "execution_count": 68,
   "id": "5f073408",
   "metadata": {},
   "outputs": [
    {
     "data": {
      "text/plain": [
       "<AxesSubplot:>"
      ]
     },
     "execution_count": 68,
     "metadata": {},
     "output_type": "execute_result"
    },
    {
     "data": {
      "image/png": "[encoded data removed]",
      "text/plain": [
       "<Figure size 432x288 with 1 Axes>"
      ]
     },
     "metadata": {
      "needs_background": "light"
     },
     "output_type": "display_data"
    }
   ],
   "source": [
    "df_a.mean().plot(kind='barh')"
   ]
  },
  {
   "cell_type": "markdown",
   "id": "f49eeb05",
   "metadata": {},
   "source": [
    "**Available pandas Plots:**\n",
    "\n",
    "| kindstr   | The kind of plot to produce    |\n",
    "|-----------|--------------------------------|\n",
    "| ‘line’    | line plot (default)            |\n",
    "| ‘bar’     | vertical bar plot              |\n",
    "| ‘barh’    | horizontal bar plot            |\n",
    "| ‘hist’    | histogram                      |\n",
    "| ‘box’     | boxplot                        |\n",
    "| ‘kde’     | Kernel Density Estimation plot |\n",
    "| ‘density’ | same as ‘kde’                  |\n",
    "| ‘area’    | area plot                      |\n",
    "| ‘pie’     | pie plot                       |\n",
    "| ‘scatter’ | scatter plot (DataFrame only)  |\n",
    "| ‘hexbin’  | hexbin plot (DataFrame only)   |\n",
    "\n"
   ]
  },
  {
   "cell_type": "markdown",
   "id": "c1f14fca",
   "metadata": {},
   "source": [
    "## **4. Final takeaways** "
   ]
  },
  {
   "cell_type": "markdown",
   "id": "9d808b1e",
   "metadata": {},
   "source": [
    "### *Exemplar copy for published analysis, section 4.:*\n",
    "\n",
    "-  Since its inception, the NYC Business Acceleration program has assisted more than 5,000 buisnesses.\n",
    "-  The vast majority of these businesses are in the accomodations and food sector.\n",
    "-  In all, the businesses employ more than 56,000 people."
   ]
  }
 ],
 "metadata": {
  "kernelspec": {
   "display_name": "Python 3",
   "language": "python",
   "name": "python3"
  },
  "language_info": {
   "codemirror_mode": {
    "name": "ipython",
    "version": 3
   },
   "file_extension": ".py",
   "mimetype": "text/x-python",
   "name": "python",
   "nbconvert_exporter": "python",
   "pygments_lexer": "ipython3",
   "version": "3.8.8"
  }
 },
 "nbformat": 4,
 "nbformat_minor": 5
}
