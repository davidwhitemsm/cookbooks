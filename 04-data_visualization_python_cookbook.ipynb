{
 "cells": [
  {
   "cell_type": "code",
   "execution_count": 5,
   "id": "9349cb89",
   "metadata": {},
   "outputs": [],
   "source": [
    "# work in progress\n",
    "# last updated 2022-05-05"
   ]
  },
  {
   "cell_type": "markdown",
   "id": "35aa38a4",
   "metadata": {},
   "source": [
    "# Data Visualization Python Cookbook"
   ]
  },
  {
   "cell_type": "markdown",
   "id": "e40b566c",
   "metadata": {},
   "source": [
    "---"
   ]
  },
  {
   "cell_type": "markdown",
   "id": "97f28229",
   "metadata": {},
   "source": [
    "## setup the workspace"
   ]
  },
  {
   "cell_type": "code",
   "execution_count": 137,
   "id": "574b3060",
   "metadata": {},
   "outputs": [],
   "source": [
    "# set Markdown tables to align-left in notebook cells"
   ]
  },
  {
   "cell_type": "code",
   "execution_count": 3,
   "id": "f7a60db4",
   "metadata": {},
   "outputs": [
    {
     "data": {
      "text/html": [
       "<style>\n",
       "table {float:left}\n",
       "</style>\n"
      ],
      "text/plain": [
       "<IPython.core.display.HTML object>"
      ]
     },
     "metadata": {},
     "output_type": "display_data"
    }
   ],
   "source": [
    "%%html\n",
    "<style>\n",
    "table {float:left}\n",
    "</style>"
   ]
  },
  {
   "cell_type": "code",
   "execution_count": 126,
   "id": "367a4846",
   "metadata": {},
   "outputs": [],
   "source": [
    "# import libraries\n",
    "\n",
    "import numpy as np\n",
    "import pandas as pd\n",
    "import matplotlib.pyplot as plt\n",
    "import seaborn as sns\n",
    "%matplotlib inline"
   ]
  },
  {
   "cell_type": "code",
   "execution_count": 2,
   "id": "113c5590",
   "metadata": {},
   "outputs": [],
   "source": [
    "# load data\n",
    "\n",
    "df = pd.read_csv(r'C:\\Users\\David White\\Desktop\\code_sandbox\\data\\titanic.csv')"
   ]
  },
  {
   "cell_type": "code",
   "execution_count": 3,
   "id": "68b6f9c7",
   "metadata": {},
   "outputs": [
    {
     "name": "stdout",
     "output_type": "stream",
     "text": [
      "<class 'pandas.core.frame.DataFrame'>\n",
      "RangeIndex: 891 entries, 0 to 890\n",
      "Data columns (total 12 columns):\n",
      " #   Column       Non-Null Count  Dtype  \n",
      "---  ------       --------------  -----  \n",
      " 0   PassengerId  891 non-null    int64  \n",
      " 1   Survived     891 non-null    int64  \n",
      " 2   Pclass       891 non-null    int64  \n",
      " 3   Name         891 non-null    object \n",
      " 4   Sex          891 non-null    object \n",
      " 5   Age          714 non-null    float64\n",
      " 6   SibSp        891 non-null    int64  \n",
      " 7   Parch        891 non-null    int64  \n",
      " 8   Ticket       891 non-null    object \n",
      " 9   Fare         891 non-null    float64\n",
      " 10  Cabin        204 non-null    object \n",
      " 11  Embarked     889 non-null    object \n",
      "dtypes: float64(2), int64(5), object(5)\n",
      "memory usage: 83.7+ KB\n"
     ]
    }
   ],
   "source": [
    "# display data info\n",
    "\n",
    "df.info()"
   ]
  },
  {
   "cell_type": "markdown",
   "id": "b2e661fb",
   "metadata": {},
   "source": [
    "---"
   ]
  },
  {
   "cell_type": "markdown",
   "id": "cc7794a7",
   "metadata": {},
   "source": [
    "## pandas"
   ]
  },
  {
   "cell_type": "code",
   "execution_count": null,
   "id": "c889e0f9",
   "metadata": {},
   "outputs": [],
   "source": []
  },
  {
   "cell_type": "markdown",
   "id": "8da64208",
   "metadata": {},
   "source": [
    "---"
   ]
  },
  {
   "cell_type": "markdown",
   "id": "36f0787a",
   "metadata": {},
   "source": [
    "## matplotlib"
   ]
  },
  {
   "cell_type": "code",
   "execution_count": null,
   "id": "d507acbb",
   "metadata": {},
   "outputs": [],
   "source": []
  },
  {
   "cell_type": "markdown",
   "id": "8d1cde20",
   "metadata": {},
   "source": [
    "---"
   ]
  },
  {
   "cell_type": "markdown",
   "id": "4300489c",
   "metadata": {},
   "source": [
    "## seaborn"
   ]
  },
  {
   "cell_type": "markdown",
   "id": "fbd22240",
   "metadata": {},
   "source": [
    "### sns.set_theme( )"
   ]
  },
  {
   "cell_type": "code",
   "execution_count": 119,
   "id": "b9b3a805",
   "metadata": {},
   "outputs": [],
   "source": [
    "sns.set_theme(\n",
    "    context='poster', # options: 'paper', 'talk', 'poster', and 'notebook'(default)\n",
    "    style='whitegrid', # options: 'whitegrid', 'dark', 'white', 'ticks', and 'darkgrid'(default) \n",
    "    palette='gist_earth', # 178 options, see below\n",
    "    font='MonoLisa', # select from system fonts\n",
    "    font_scale=.65, # scales fonts independently, default=1\n",
    "    color_codes=True, # leave on default to use color palettes\n",
    "    rc=None) # if color_dodes=True, use this to remap colors "
   ]
  },
  {
   "cell_type": "code",
   "execution_count": 119,
   "id": "6d749c0f",
   "metadata": {},
   "outputs": [],
   "source": [
    "# clean copy with stanard options pre-selected\n",
    "\n",
    "plt.figure(figsize=(16, 9))\n",
    "\n",
    "sns.set_theme(\n",
    "    context='poster',\n",
    "    style='whitegrid',\n",
    "    palette='gist_earth',\n",
    "    font='Courier New', \n",
    "    font_scale=.65)"
   ]
  },
  {
   "cell_type": "markdown",
   "id": "f9d1827b",
   "metadata": {},
   "source": [
    "[**Reference:** ***Color Guide to Seaborn Palettes***](https://medium.com/@morganjonesartist/color-guide-to-seaborn-palettes-da849406d44f)"
   ]
  },
  {
   "cell_type": "markdown",
   "id": "a5cec2b9",
   "metadata": {},
   "source": [
    "\n",
    "\n",
    "|palette options| ⠀           | ⠀           | ⠀          | ⠀            | ⠀           | ⠀              | ⠀                | ⠀           | ⠀                 | ⠀           | ⠀                    |\n",
    "|:--- |:--- |:--- |:--- |:--- |:--- |:--- |:--- |:--- |:--- |:--- |:--- |\n",
    "| 'Accent'         | 'GnBu_r'    | 'Pastel2'   | 'RdBu_r'   | 'Set3'       | 'afmhot_r'  | 'coolwarm'     | 'gist_gray_r'    | 'gray'      | 'mako_r'          | 'seismic'   | 'terrain_r'          |\n",
    "| 'Accent_r'       | 'Greens'    | 'Pastel2_r' | 'RdGy'     | 'Set3_r'     | 'autumn'    | 'coolwarm_r'   | 'gist_heat'      | 'gray_r'    | 'nipy_spectral'   | 'seismic_r' | 'turbo'              |\n",
    "| 'Blues'          | 'Greens_r'  | 'PiYG'      | 'RdGy_r'   | 'Spectral'   | 'autumn_r'  | 'copper'       | 'gist_heat_r'    | 'hot'       | 'nipy_spectral_r' | 'spring'    | 'turbo_r'            |\n",
    "| 'Blues_r'        | 'Greys'     | 'PiYG_r'    | 'RdPu'     | 'Spectral_r' | 'binary'    | 'copper_r'     | 'gist_ncar'      | 'hot_r'     | 'ocean'           | 'spring_r'  | 'twilight'           |\n",
    "| 'BrBG'           | 'Greys_r'   | 'PuBu'      | 'RdPu_r'   | 'Wistia'     | 'binary_r'  | 'crest'        | 'gist_ncar_r'    | 'hsv'       | 'ocean_r'         | 'summer'    | 'twilight_r'         |\n",
    "| 'BrBG_r'         | 'OrRd'      | 'PuBuGn'    | 'RdYlBu'   | 'Wistia_r'   | 'bone'      | 'crest_r'      | 'gist_rainbow'   | 'hsv_r'     | 'pink'            | 'summer_r'  | 'twilight_shifted'   |\n",
    "| 'BuGn'           | 'OrRd_r'    | 'PuBuGn_r'  | 'RdYlBu_r' | 'YlGn'       | 'bone_r'    | 'cubehelix'    | 'gist_rainbow_r' | 'icefire'   | 'pink_r'          | 'tab10'     | 'twilight_shifted_r' |\n",
    "| 'BuGn_r'         | 'Oranges'   | 'PuBu_r'    | 'RdYlGn'   | 'YlGnBu'     | 'brg'       | 'cubehelix_r'  | 'gist_stern'     | 'icefire_r' | 'plasma'          | 'tab10_r'   | 'viridis'            |\n",
    "| 'BuPu'           | 'Oranges_r' | 'PuOr'      | 'RdYlGn_r' | 'YlGnBu_r'   | 'brg_r'     | 'flag'         | 'gist_stern_r'   | 'inferno'   | 'plasma_r'        | 'tab20'     | 'viridis_r'          |\n",
    "| 'BuPu_r'         | 'PRGn'      | 'PuOr_r'    | 'Reds'     | 'YlGn_r'     | 'bwr'       | 'flag_r'       | 'gist_yarg'      | 'inferno_r' | 'prism'           | 'tab20_r'   | 'vlag'               |\n",
    "| 'CMRmap'         | 'PRGn_r'    | 'PuRd'      | 'Reds_r'   | 'YlOrBr'     | 'bwr_r'     | 'flare'        | 'gist_yarg_r'    | 'jet'       | 'prism_r'         | 'tab20b'    | 'vlag_r'             |\n",
    "| 'CMRmap_r'       | 'Paired'    | 'PuRd_r'    | 'Set1'     | 'YlOrBr_r'   | 'cividis'   | 'flare_r'      | 'gnuplot'        | 'jet_r'     | 'rainbow'         | 'tab20b_r'  | 'winter'             |\n",
    "| 'Dark2'          | 'Paired_r'  | 'Purples'   | 'Set1_r'   | 'YlOrRd'     | 'cividis_r' | 'gist_earth'   | 'gnuplot2'       | 'magma'     | 'rainbow_r'       | 'tab20c'    | 'winter_r'           |\n",
    "| 'Dark2_r'        | 'Pastel1'   | 'Purples_r' | 'Set2'     | 'YlOrRd_r'   | 'cool'      | 'gist_earth_r' | 'gnuplot2_r'     | 'magma_r'   | 'rocket'          | 'tab20c_r'  |                      |\n",
    "| 'GnBu'           | 'Pastel1_r' | 'RdBu'      | 'Set2_r'   | 'afmhot'     | 'cool_r'    | 'gist_gray'    | 'gnuplot_r'      | 'mako'      | 'rocket_r'        | 'terrain'   |                      |"
   ]
  },
  {
   "cell_type": "code",
   "execution_count": null,
   "id": "85d98875",
   "metadata": {},
   "outputs": [],
   "source": []
  },
  {
   "cell_type": "markdown",
   "id": "c76583c0",
   "metadata": {},
   "source": [
    "### Available seaborn Plot Types\n",
    "\n",
    "|available plots | ⠀         | ⠀           |\n",
    "|:--- |:--- |:--- |\n",
    "| barplot            | heatmap   | pointplot   |\n",
    "| boxenplot          | histplot  | regplot     |\n",
    "| boxplot            | JointGrid | relplot     |\n",
    "| catplot            | jointplot | residplot   |\n",
    "| clustermap         | kdeplot   | rugplot     |\n",
    "| countplot          | lineplot  | scatterplot |\n",
    "| displot            | lmplot    | stripplot   |\n",
    "| ecdfplot           | PairGrid  | swarmplot   |\n",
    "| ecdfplot           | pairplot  | violinplot  |\n",
    "| FacetGrid          | pairplot  |             |"
   ]
  },
  {
   "cell_type": "code",
   "execution_count": null,
   "id": "2682ca12",
   "metadata": {},
   "outputs": [],
   "source": []
  },
  {
   "cell_type": "markdown",
   "id": "951f2700",
   "metadata": {},
   "source": [
    "### Relational Plots"
   ]
  },
  {
   "cell_type": "markdown",
   "id": "0ed58ba9",
   "metadata": {},
   "source": [
    "#### sns.relplot( )"
   ]
  },
  {
   "cell_type": "code",
   "execution_count": null,
   "id": "7090c21f",
   "metadata": {},
   "outputs": [],
   "source": [
    "# draws relational plots onto a FacetGrid"
   ]
  },
  {
   "cell_type": "markdown",
   "id": "f1f4b074",
   "metadata": {},
   "source": [
    "#### sns.scatterplot( )"
   ]
  },
  {
   "cell_type": "code",
   "execution_count": null,
   "id": "25552856",
   "metadata": {},
   "outputs": [],
   "source": [
    "# draws a scatter plot with possibility of several semantic groupings"
   ]
  },
  {
   "cell_type": "markdown",
   "id": "b179d5fe",
   "metadata": {},
   "source": []
  },
  {
   "cell_type": "markdown",
   "id": "bc698559",
   "metadata": {},
   "source": [
    "#### sns.lineplot( )"
   ]
  },
  {
   "cell_type": "code",
   "execution_count": null,
   "id": "47082b43",
   "metadata": {},
   "outputs": [],
   "source": [
    "# draws a line plot with possibility of several semantic groupings"
   ]
  },
  {
   "cell_type": "code",
   "execution_count": null,
   "id": "65497190",
   "metadata": {},
   "outputs": [],
   "source": []
  },
  {
   "cell_type": "code",
   "execution_count": null,
   "id": "f8f7bfad",
   "metadata": {},
   "outputs": [],
   "source": []
  },
  {
   "cell_type": "code",
   "execution_count": null,
   "id": "c276399c",
   "metadata": {},
   "outputs": [],
   "source": []
  },
  {
   "cell_type": "code",
   "execution_count": null,
   "id": "13026143",
   "metadata": {},
   "outputs": [],
   "source": []
  },
  {
   "cell_type": "code",
   "execution_count": null,
   "id": "9d8995fc",
   "metadata": {},
   "outputs": [],
   "source": []
  },
  {
   "cell_type": "markdown",
   "id": "62039c26",
   "metadata": {},
   "source": []
  },
  {
   "cell_type": "markdown",
   "id": "a59ddc33",
   "metadata": {},
   "source": []
  },
  {
   "cell_type": "markdown",
   "id": "3de0a63c",
   "metadata": {},
   "source": []
  },
  {
   "cell_type": "markdown",
   "id": "f466748e",
   "metadata": {},
   "source": []
  },
  {
   "cell_type": "code",
   "execution_count": null,
   "id": "c3906687",
   "metadata": {},
   "outputs": [],
   "source": []
  },
  {
   "cell_type": "code",
   "execution_count": null,
   "id": "af64ab89",
   "metadata": {},
   "outputs": [],
   "source": []
  },
  {
   "cell_type": "code",
   "execution_count": null,
   "id": "69be5f17",
   "metadata": {},
   "outputs": [],
   "source": []
  },
  {
   "cell_type": "code",
   "execution_count": null,
   "id": "2b64e79c",
   "metadata": {},
   "outputs": [],
   "source": []
  },
  {
   "cell_type": "code",
   "execution_count": null,
   "id": "f0c0926d",
   "metadata": {},
   "outputs": [],
   "source": []
  },
  {
   "cell_type": "code",
   "execution_count": null,
   "id": "7c5d4b18",
   "metadata": {},
   "outputs": [],
   "source": []
  },
  {
   "cell_type": "code",
   "execution_count": null,
   "id": "db0ba837",
   "metadata": {},
   "outputs": [],
   "source": []
  },
  {
   "cell_type": "code",
   "execution_count": null,
   "id": "fa240bb8",
   "metadata": {},
   "outputs": [],
   "source": []
  },
  {
   "cell_type": "code",
   "execution_count": null,
   "id": "b3cbd641",
   "metadata": {},
   "outputs": [],
   "source": []
  },
  {
   "cell_type": "code",
   "execution_count": null,
   "id": "a4d0b48f",
   "metadata": {},
   "outputs": [],
   "source": []
  },
  {
   "cell_type": "code",
   "execution_count": null,
   "id": "1d6656af",
   "metadata": {},
   "outputs": [],
   "source": []
  },
  {
   "cell_type": "code",
   "execution_count": null,
   "id": "1cd19458",
   "metadata": {},
   "outputs": [],
   "source": []
  },
  {
   "cell_type": "code",
   "execution_count": 120,
   "id": "24c8ba7d",
   "metadata": {},
   "outputs": [
    {
     "data": {
      "image/png": "[encoded data removed]",
      "text/plain": [
       "<Figure size 504x360 with 1 Axes>"
      ]
     },
     "metadata": {},
     "output_type": "display_data"
    }
   ],
   "source": [
    "plt.figure(figsize=(7, 5)) # Width, height in inches\n",
    "plt.title('Titanic Passengers by Ticket Class')\n",
    "\n",
    "sns.countplot(data=df, x='Pclass', alpha=1) ; # add a semicolon at the end to hide matplotlib descriptions"
   ]
  },
  {
   "cell_type": "markdown",
   "id": "16318a2f",
   "metadata": {},
   "source": [
    "---"
   ]
  },
  {
   "cell_type": "markdown",
   "id": "da25173c",
   "metadata": {},
   "source": [
    "---"
   ]
  }
 ],
 "metadata": {
  "kernelspec": {
   "display_name": "Python 3",
   "language": "python",
   "name": "python3"
  },
  "language_info": {
   "codemirror_mode": {
    "name": "ipython",
    "version": 3
   },
   "file_extension": ".py",
   "mimetype": "text/x-python",
   "name": "python",
   "nbconvert_exporter": "python",
   "pygments_lexer": "ipython3",
   "version": "3.8.8"
  }
 },
 "nbformat": 4,
 "nbformat_minor": 5
}
